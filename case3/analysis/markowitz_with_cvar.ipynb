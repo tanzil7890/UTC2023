{
 "cells": [
  {
   "cell_type": "code",
   "execution_count": 51,
   "metadata": {},
   "outputs": [],
   "source": [
    "import pandas as pd\n",
    "import numpy as np\n",
    "import scipy.optimize as sco"
   ]
  },
  {
   "cell_type": "code",
   "execution_count": 52,
   "metadata": {},
   "outputs": [],
   "source": [
    "df = pd.read_csv(\"../data/Training Data_Case 3.csv\", index_col=0)\n",
    "returns = df.pct_change().dropna()\n",
    "# df.head(252*2).to_dict()"
   ]
  },
  {
   "cell_type": "code",
   "execution_count": 55,
   "metadata": {},
   "outputs": [],
   "source": [
    "import pandas as pd\n",
    "import numpy as np\n",
    "from scipy.stats import norm\n",
    "\n",
    "def calculate_cvar(returns, alpha):\n",
    "    \"\"\"Calculate CVaR at alpha level.\"\"\"\n",
    "    sorted_returns = sorted(returns)\n",
    "    index = int(alpha * len(sorted_returns))\n",
    "    cvar = sum(sorted_returns[:index]) / index\n",
    "    return cvar\n",
    "\n",
    "def markowitz_cvar_portfolio(df, alpha=0.05):\n",
    "    \"\"\"Calculate Markowitz portfolio allocation using CVaR.\"\"\"\n",
    "    returns = df.pct_change().dropna()\n",
    "\n",
    "    # Calculate mean, variance, skewness, and kurtosis of returns\n",
    "    mean_returns = returns.mean()\n",
    "    cov_matrix = returns.cov()\n",
    "    skewness = returns.skew()\n",
    "    kurtosis = returns.kurtosis()\n",
    "\n",
    "    # Set up optimization problem\n",
    "    num_assets = len(df.columns)\n",
    "    weights = np.ones(num_assets) / num_assets\n",
    "\n",
    "    def portfolio_cvar(weights):\n",
    "        portfolio_return = np.dot(weights, mean_returns)\n",
    "        portfolio_volatility = np.sqrt(np.dot(weights.T, np.dot(cov_matrix, weights)))\n",
    "        z = norm.ppf(alpha)\n",
    "        portfolio_cvar = - portfolio_return + (z * portfolio_volatility * (1 + (skewness.dot(weights) / 6) * z - ((kurtosis.dot(weights) - 3) / 24) * (z ** 2)))\n",
    "        return portfolio_cvar\n",
    "\n",
    "    # Minimize CVaR\n",
    "    from scipy.optimize import minimize\n",
    "    constraints = ({'type': 'eq', 'fun': lambda x: np.sum(x) - 1})\n",
    "    bounds = tuple((0,1) for i in range(num_assets))\n",
    "    optimized_results = minimize(portfolio_cvar, weights, method='SLSQP', bounds=bounds, constraints=constraints)\n",
    "\n",
    "    # Calculate Sharpe ratio\n",
    "    portfolio_return = np.dot(optimized_results.x, mean_returns)\n",
    "    portfolio_volatility = np.sqrt(np.dot(optimized_results.x.T, np.dot(cov_matrix, optimized_results.x)))\n",
    "    sharpe_ratio = (252 ** 0.5) * (portfolio_return) / portfolio_volatility\n",
    "\n",
    "    # Print results\n",
    "    print(\"Weights:\", optimized_results.x)\n",
    "    print(\"Portfolio CVaR:\", -optimized_results.fun)\n",
    "    print(\"Sharpe Ratio:\", sharpe_ratio)\n"
   ]
  },
  {
   "cell_type": "code",
   "execution_count": 56,
   "metadata": {},
   "outputs": [
    {
     "name": "stdout",
     "output_type": "stream",
     "text": [
      "Weights: [5.83891136e-16 1.44859655e-16 0.00000000e+00 7.03000409e-16\n",
      " 1.91474731e-17 1.00000000e+00 1.06858966e-15 5.57277018e-16\n",
      " 1.77576409e-16 2.60661814e-16]\n",
      "Portfolio CVaR: 0.05229372241283008\n",
      "Sharpe Ratio: 0.5856181940011806\n"
     ]
    }
   ],
   "source": [
    "markowitz_cvar_portfolio(df)"
   ]
  },
  {
   "cell_type": "code",
   "execution_count": null,
   "metadata": {},
   "outputs": [],
   "source": [
    "start = 252*3\n",
    "\n",
    "sharpe_ratios = []\n",
    "for i in range(start,len(returns)):\n",
    "    results = get_results(returns[i:i+1])\n",
    "    sharpe_ratios.append()\n"
   ]
  }
 ],
 "metadata": {
  "kernelspec": {
   "display_name": "venv",
   "language": "python",
   "name": "python3"
  },
  "language_info": {
   "codemirror_mode": {
    "name": "ipython",
    "version": 3
   },
   "file_extension": ".py",
   "mimetype": "text/x-python",
   "name": "python",
   "nbconvert_exporter": "python",
   "pygments_lexer": "ipython3",
   "version": "3.9.13"
  },
  "orig_nbformat": 4
 },
 "nbformat": 4,
 "nbformat_minor": 2
}
