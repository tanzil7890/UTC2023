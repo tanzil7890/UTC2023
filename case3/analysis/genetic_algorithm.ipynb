{
  "cells": [
    {
      "cell_type": "code",
      "execution_count": 4,
      "metadata": {
        "id": "VtD4Nu2m10MW"
      },
      "outputs": [],
      "source": [
        "import numpy as np\n",
        "np.set_printoptions(suppress=True)\n",
        "import pandas as pd\n",
        "# pd.set_option('display.max_columns', 50)"
      ]
    },
    {
      "cell_type": "code",
      "execution_count": 5,
      "metadata": {
        "id": "5iM0ohah10MZ"
      },
      "outputs": [],
      "source": [
        "# Load data\n",
        "df = pd.read_csv(\"../data/Training Data_Case 3.csv\", index_col=0)"
      ]
    },
    {
      "cell_type": "code",
      "execution_count": 6,
      "metadata": {
        "colab": {
          "base_uri": "https://localhost:8080/",
          "height": 423
        },
        "id": "jlO69p3810Mc",
        "outputId": "d1f8561a-678a-446e-866d-622854cc0e65"
      },
      "outputs": [
        {
          "data": {
            "text/html": [
              "<div>\n",
              "<style scoped>\n",
              "    .dataframe tbody tr th:only-of-type {\n",
              "        vertical-align: middle;\n",
              "    }\n",
              "\n",
              "    .dataframe tbody tr th {\n",
              "        vertical-align: top;\n",
              "    }\n",
              "\n",
              "    .dataframe thead th {\n",
              "        text-align: right;\n",
              "    }\n",
              "</style>\n",
              "<table border=\"1\" class=\"dataframe\">\n",
              "  <thead>\n",
              "    <tr style=\"text-align: right;\">\n",
              "      <th></th>\n",
              "      <th>A</th>\n",
              "      <th>B</th>\n",
              "      <th>C</th>\n",
              "      <th>D</th>\n",
              "      <th>E</th>\n",
              "      <th>F</th>\n",
              "      <th>G</th>\n",
              "      <th>H</th>\n",
              "      <th>I</th>\n",
              "      <th>J</th>\n",
              "    </tr>\n",
              "  </thead>\n",
              "  <tbody>\n",
              "    <tr>\n",
              "      <th>1</th>\n",
              "      <td>119.96</td>\n",
              "      <td>198.25</td>\n",
              "      <td>76.54</td>\n",
              "      <td>32.08</td>\n",
              "      <td>53.20</td>\n",
              "      <td>19.47</td>\n",
              "      <td>40.63</td>\n",
              "      <td>43.47</td>\n",
              "      <td>19.76</td>\n",
              "      <td>113.91</td>\n",
              "    </tr>\n",
              "    <tr>\n",
              "      <th>2</th>\n",
              "      <td>120.32</td>\n",
              "      <td>201.42</td>\n",
              "      <td>76.73</td>\n",
              "      <td>31.86</td>\n",
              "      <td>53.88</td>\n",
              "      <td>19.23</td>\n",
              "      <td>40.47</td>\n",
              "      <td>45.16</td>\n",
              "      <td>19.88</td>\n",
              "      <td>112.98</td>\n",
              "    </tr>\n",
              "    <tr>\n",
              "      <th>3</th>\n",
              "      <td>119.60</td>\n",
              "      <td>200.23</td>\n",
              "      <td>77.60</td>\n",
              "      <td>31.56</td>\n",
              "      <td>55.11</td>\n",
              "      <td>18.93</td>\n",
              "      <td>39.84</td>\n",
              "      <td>46.03</td>\n",
              "      <td>20.29</td>\n",
              "      <td>114.24</td>\n",
              "    </tr>\n",
              "    <tr>\n",
              "      <th>4</th>\n",
              "      <td>121.76</td>\n",
              "      <td>199.61</td>\n",
              "      <td>79.48</td>\n",
              "      <td>31.62</td>\n",
              "      <td>55.80</td>\n",
              "      <td>19.15</td>\n",
              "      <td>40.13</td>\n",
              "      <td>46.89</td>\n",
              "      <td>20.01</td>\n",
              "      <td>114.27</td>\n",
              "    </tr>\n",
              "    <tr>\n",
              "      <th>5</th>\n",
              "      <td>120.10</td>\n",
              "      <td>199.64</td>\n",
              "      <td>81.49</td>\n",
              "      <td>31.89</td>\n",
              "      <td>55.02</td>\n",
              "      <td>19.16</td>\n",
              "      <td>39.94</td>\n",
              "      <td>47.59</td>\n",
              "      <td>20.12</td>\n",
              "      <td>113.87</td>\n",
              "    </tr>\n",
              "    <tr>\n",
              "      <th>...</th>\n",
              "      <td>...</td>\n",
              "      <td>...</td>\n",
              "      <td>...</td>\n",
              "      <td>...</td>\n",
              "      <td>...</td>\n",
              "      <td>...</td>\n",
              "      <td>...</td>\n",
              "      <td>...</td>\n",
              "      <td>...</td>\n",
              "      <td>...</td>\n",
              "    </tr>\n",
              "    <tr>\n",
              "      <th>2516</th>\n",
              "      <td>317.31</td>\n",
              "      <td>1385.04</td>\n",
              "      <td>199.14</td>\n",
              "      <td>273.02</td>\n",
              "      <td>52.11</td>\n",
              "      <td>89.45</td>\n",
              "      <td>151.54</td>\n",
              "      <td>390.13</td>\n",
              "      <td>88.25</td>\n",
              "      <td>35.99</td>\n",
              "    </tr>\n",
              "    <tr>\n",
              "      <th>2517</th>\n",
              "      <td>317.20</td>\n",
              "      <td>1358.01</td>\n",
              "      <td>202.59</td>\n",
              "      <td>277.45</td>\n",
              "      <td>52.73</td>\n",
              "      <td>90.93</td>\n",
              "      <td>152.39</td>\n",
              "      <td>394.03</td>\n",
              "      <td>87.56</td>\n",
              "      <td>35.89</td>\n",
              "    </tr>\n",
              "    <tr>\n",
              "      <th>2518</th>\n",
              "      <td>312.31</td>\n",
              "      <td>1315.00</td>\n",
              "      <td>198.29</td>\n",
              "      <td>281.23</td>\n",
              "      <td>52.71</td>\n",
              "      <td>92.28</td>\n",
              "      <td>153.92</td>\n",
              "      <td>375.70</td>\n",
              "      <td>89.54</td>\n",
              "      <td>36.13</td>\n",
              "    </tr>\n",
              "    <tr>\n",
              "      <th>2519</th>\n",
              "      <td>312.45</td>\n",
              "      <td>1319.59</td>\n",
              "      <td>200.78</td>\n",
              "      <td>282.77</td>\n",
              "      <td>52.26</td>\n",
              "      <td>93.49</td>\n",
              "      <td>155.26</td>\n",
              "      <td>368.33</td>\n",
              "      <td>91.36</td>\n",
              "      <td>35.15</td>\n",
              "    </tr>\n",
              "    <tr>\n",
              "      <th>2520</th>\n",
              "      <td>314.02</td>\n",
              "      <td>1313.26</td>\n",
              "      <td>204.65</td>\n",
              "      <td>288.71</td>\n",
              "      <td>52.97</td>\n",
              "      <td>94.15</td>\n",
              "      <td>156.17</td>\n",
              "      <td>352.78</td>\n",
              "      <td>92.05</td>\n",
              "      <td>34.59</td>\n",
              "    </tr>\n",
              "  </tbody>\n",
              "</table>\n",
              "<p>2520 rows × 10 columns</p>\n",
              "</div>"
            ],
            "text/plain": [
              "           A        B       C       D      E      F       G       H      I   \n",
              "1     119.96   198.25   76.54   32.08  53.20  19.47   40.63   43.47  19.76  \\\n",
              "2     120.32   201.42   76.73   31.86  53.88  19.23   40.47   45.16  19.88   \n",
              "3     119.60   200.23   77.60   31.56  55.11  18.93   39.84   46.03  20.29   \n",
              "4     121.76   199.61   79.48   31.62  55.80  19.15   40.13   46.89  20.01   \n",
              "5     120.10   199.64   81.49   31.89  55.02  19.16   39.94   47.59  20.12   \n",
              "...      ...      ...     ...     ...    ...    ...     ...     ...    ...   \n",
              "2516  317.31  1385.04  199.14  273.02  52.11  89.45  151.54  390.13  88.25   \n",
              "2517  317.20  1358.01  202.59  277.45  52.73  90.93  152.39  394.03  87.56   \n",
              "2518  312.31  1315.00  198.29  281.23  52.71  92.28  153.92  375.70  89.54   \n",
              "2519  312.45  1319.59  200.78  282.77  52.26  93.49  155.26  368.33  91.36   \n",
              "2520  314.02  1313.26  204.65  288.71  52.97  94.15  156.17  352.78  92.05   \n",
              "\n",
              "           J  \n",
              "1     113.91  \n",
              "2     112.98  \n",
              "3     114.24  \n",
              "4     114.27  \n",
              "5     113.87  \n",
              "...      ...  \n",
              "2516   35.99  \n",
              "2517   35.89  \n",
              "2518   36.13  \n",
              "2519   35.15  \n",
              "2520   34.59  \n",
              "\n",
              "[2520 rows x 10 columns]"
            ]
          },
          "execution_count": 6,
          "metadata": {},
          "output_type": "execute_result"
        }
      ],
      "source": [
        "df"
      ]
    },
    {
      "cell_type": "code",
      "execution_count": 7,
      "metadata": {
        "colab": {
          "base_uri": "https://localhost:8080/",
          "height": 448
        },
        "id": "uGMBve_v10Me",
        "outputId": "0fa5bb7d-d9b7-4a45-f4a0-718d01baab47"
      },
      "outputs": [
        {
          "data": {
            "text/plain": [
              "<Axes: >"
            ]
          },
          "execution_count": 7,
          "metadata": {},
          "output_type": "execute_result"
        },
        {
          "data": {
            "image/png": "[encoded data removed]",
            "text/plain": [
              "<Figure size 640x480 with 1 Axes>"
            ]
          },
          "metadata": {},
          "output_type": "display_data"
        }
      ],
      "source": [
        "df.plot()"
      ]
    },
    {
      "cell_type": "markdown",
      "metadata": {
        "id": "G1KJbiMd10Mh"
      },
      "source": [
        "## Create projections"
      ]
    },
    {
      "cell_type": "code",
      "execution_count": 8,
      "metadata": {
        "id": "Zbl1PuF410Mk"
      },
      "outputs": [],
      "source": [
        "# Get daily % returns given prices\n",
        "def make_df(df):\n",
        "    df['shift']=df[df.columns[0]].shift(1)\n",
        "    df['PctChg']=(df[df.columns[0]]-df[\"shift\"]).div(df[\"shift\"])*100\n",
        "    df=df.drop(columns='shift')\n",
        "    return df"
      ]
    },
    {
      "cell_type": "code",
      "execution_count": 9,
      "metadata": {
        "id": "BMRB89cH10Mm"
      },
      "outputs": [],
      "source": [
        "# Generate list of projections\n",
        "def gen_data(df, first_day, runs, days):\n",
        "    \n",
        "    # Create list of arrays with projected daily returns\n",
        "    data=[]\n",
        "    first_prices=[]\n",
        "    for x in range(len(df.columns)):\n",
        "        temp=make_df(df.iloc[:,x:x+1])\n",
        "        first_prices.append(temp[temp.columns[0]].iloc[first_day-1])\n",
        "        data.append(np.random.laplace(loc=temp['PctChg'].mean(), scale=temp['PctChg'].std(), size=(runs, days)))\n",
        "    \n",
        "    # Get projected prices by applying % changes\n",
        "    proj_dfs=[]\n",
        "    for asset_num in range(len(data)):\n",
        "        \n",
        "        asset_data=[]\n",
        "        for n in range(len(data[asset_num])):\n",
        "            prices=[first_prices[asset_num]]\n",
        "            for x in range(len(data[asset_num][n])):\n",
        "                prices.append(prices[x]*(100+data[asset_num][n][x])/100)\n",
        "            asset_data.append(prices)\n",
        "        \n",
        "        proj_arr=np.array(asset_data)\n",
        "        proj_df=pd.DataFrame()\n",
        "        for x in range(proj_arr.shape[0]):\n",
        "            proj_df[str(x)]=proj_arr[x]\n",
        "        proj_dfs.append(proj_df)\n",
        "        \n",
        "    # Transform dataframes\n",
        "    dfs=[]\n",
        "    for run_num in range(proj_dfs[0].shape[1]):\n",
        "        temp=pd.DataFrame()\n",
        "        for asset_num in range(len(proj_dfs)):\n",
        "            prev_df=proj_dfs[asset_num]\n",
        "            temp[str(asset_num)]=prev_df[prev_df.columns[run_num]]\n",
        "        dfs.append(temp)\n",
        "        \n",
        "    return dfs"
      ]
    },
    {
      "cell_type": "markdown",
      "metadata": {
        "id": "-SxrLq7710Mo"
      },
      "source": [
        "## Genetic algorithm"
      ]
    },
    {
      "cell_type": "code",
      "execution_count": 10,
      "metadata": {
        "id": "ly8kvfj810Mr"
      },
      "outputs": [],
      "source": [
        "# Define global variable for square root of num trading days in a year\n",
        "year_num=np.sqrt(252)"
      ]
    },
    {
      "cell_type": "code",
      "execution_count": 11,
      "metadata": {
        "id": "FfBPI23910Mu"
      },
      "outputs": [],
      "source": [
        "def gen_weights(df):\n",
        "    weights=np.random.randint(0, 100000, len(df.columns))\n",
        "    weights=weights/sum(weights)\n",
        "    return weights"
      ]
    },
    {
      "cell_type": "code",
      "execution_count": 12,
      "metadata": {
        "id": "s-nlgSsU10Mv"
      },
      "outputs": [],
      "source": [
        "def gen_population(num_chrom, df):\n",
        "    population=[]\n",
        "    for x in range(num_chrom):\n",
        "        population.append(gen_weights(df))\n",
        "    return np.array(population)"
      ]
    },
    {
      "cell_type": "code",
      "execution_count": 13,
      "metadata": {
        "id": "GraJ_QNc10My"
      },
      "outputs": [],
      "source": [
        "def evaluate_chrom(chromosome, dfs):    \n",
        "    sharpes=[]\n",
        "    for x in range(len(dfs)):\n",
        "        temp=dfs[x].multiply(chromosome, axis=1)\n",
        "        test=temp[list(temp.columns)].sum(axis=1).pct_change()\n",
        "        sharpe=(test.mean()/test.std())*year_num\n",
        "        sharpes.append(sharpe)\n",
        "    return np.mean(sharpes)"
      ]
    },
    {
      "cell_type": "code",
      "execution_count": 14,
      "metadata": {
        "id": "4IevNj4E10Mz"
      },
      "outputs": [],
      "source": [
        "def evaluate_population(pop, proj_dfs):\n",
        "    sharpes=[]\n",
        "    for chrom in pop:\n",
        "        sharpes.append(evaluate_chrom(chrom, proj_dfs))\n",
        "    return np.array(sharpes)"
      ]
    },
    {
      "cell_type": "code",
      "execution_count": 15,
      "metadata": {
        "id": "0NkXz_QI10M1"
      },
      "outputs": [],
      "source": [
        "# Choose chromosome for next generation given the cumulataive normalized sharpes\n",
        "def choose_chrom(population, cum_norm_sharpes):\n",
        "    for n in range(len(cum_norm_sharpes)):\n",
        "        if cum_norm_sharpes[n]>np.random.rand(1)[0]:\n",
        "            return population[n]"
      ]
    },
    {
      "cell_type": "code",
      "execution_count": 16,
      "metadata": {
        "id": "A4C6YUzh10M2"
      },
      "outputs": [],
      "source": [
        "def crossover(chrom1, chrom2):\n",
        "    if np.random.rand(1)[0]>.5:\n",
        "        return np.concatenate((chrom1[:int(len(chrom1)/2)], chrom2[int(len(chrom1)/2):]), axis=None)\n",
        "    else:\n",
        "        return np.concatenate((chrom2[:int(len(chrom1)/2)], chrom1[int(len(chrom1)/2):]), axis=None)"
      ]
    },
    {
      "cell_type": "code",
      "execution_count": 17,
      "metadata": {
        "id": "L2s9G7vQ10M3"
      },
      "outputs": [],
      "source": [
        "def mutate(chrom, rate):\n",
        "    new=[]\n",
        "    for weight in chrom:\n",
        "        if np.random.rand(1)[0]<rate:\n",
        "            new_weight=weight*(1+np.random.normal(0, .4, 1)[0])\n",
        "            if(new_weight<0):\n",
        "                new.append(0)\n",
        "            else:\n",
        "                new.append(new_weight)\n",
        "        else:\n",
        "            new.append(weight)\n",
        "    return np.array(new)"
      ]
    },
    {
      "cell_type": "code",
      "execution_count": 18,
      "metadata": {
        "id": "9q1_zI2o10M4"
      },
      "outputs": [],
      "source": [
        "def rebalance(chrom):\n",
        "    return chrom/sum(chrom)"
      ]
    },
    {
      "cell_type": "code",
      "execution_count": 19,
      "metadata": {
        "id": "cOVmDvA110M4"
      },
      "outputs": [],
      "source": [
        "# Create next generation of chromosomes (weights)\n",
        "def next_gen(sharpes, population, mutation_rate):\n",
        "    \n",
        "    new_gen=[]\n",
        "    \n",
        "    # Select best fourth\n",
        "    num_chosen_direct=round(len(population)/4)\n",
        "    temp={}\n",
        "    for x in range(len(sharpes)):\n",
        "        temp[x]=sharpes[x]\n",
        "    temp={k: v for k, v in sorted(temp.items(), key=lambda item: item[1])}\n",
        "    keys=list(temp.keys())[-1*num_chosen_direct:]\n",
        "    for x in keys:\n",
        "        new_gen.append(population[x])\n",
        "    \n",
        "    # Select rest through crossover: create cumulative norm fitness list\n",
        "    norm_sharpes=sharpes/sum(sharpes)\n",
        "    cum_norm_sharpes=[norm_sharpes[0]]\n",
        "    for n in range(1, len(norm_sharpes)):\n",
        "        cum_norm_sharpes.append(cum_norm_sharpes[n-1]+norm_sharpes[n])\n",
        "    for x in range(len(population)-num_chosen_direct):\n",
        "        new_gen.append(crossover(choose_chrom(population, cum_norm_sharpes), choose_chrom(population, cum_norm_sharpes)))\n",
        "        \n",
        "    # Mutation and rebalance\n",
        "    final=[]\n",
        "    for x in new_gen:\n",
        "        final.append(rebalance(mutate(x, mutation_rate)))\n",
        "        \n",
        "    return np.array(final)"
      ]
    },
    {
      "cell_type": "code",
      "execution_count": 20,
      "metadata": {
        "id": "_in2ZOtJ10M5"
      },
      "outputs": [],
      "source": [
        "def genetic_algo(prev_gen_sharpes, prev_gen, pop_size, mutation_rate, df, proj_dfs):\n",
        "    \n",
        "    # Add to high fitness weights dict\n",
        "    max_sharpe=max(prev_gen_sharpes)\n",
        "    best_weights=prev_gen[list(prev_gen_sharpes).index(max_sharpe)]\n",
        "    high_fitness_weights[max_sharpe]=best_weights\n",
        "    \n",
        "    # Check convergence\n",
        "    convergence=False\n",
        "    if (len(high_fitness_weights)==30):\n",
        "        convergence=True\n",
        "    elif (len(high_fitness_weights)>1):\n",
        "        if max_sharpe<list(high_fitness_weights.keys())[-2]*1.02:\n",
        "            convergence_count.append(1)\n",
        "        else:\n",
        "            convergence_count.append(0)\n",
        "\n",
        "        if (sum(convergence_count[-20:])==20):\n",
        "            convergence=True\n",
        "        else:\n",
        "            convergence=False\n",
        "    else:\n",
        "        convergence_count.append(0)\n",
        "    \n",
        "    # Recursive GA\n",
        "    if (convergence==False):\n",
        "        print(\"Generation Number \"+str(len(convergence_count)+1))\n",
        "        print(\"---Processing\")\n",
        "        print(\"---Sharpe: \"+str(max_sharpe))\n",
        "        new_gen=next_gen(prev_gen_sharpes, prev_gen, mutation_rate)\n",
        "        new_gen_sharpes=evaluate_population(new_gen, proj_dfs)\n",
        "        print(\"---Done\")\n",
        "        genetic_algo(new_gen_sharpes, new_gen, pop_size, mutation_rate, df, proj_dfs)\n",
        "    else:\n",
        "        print(\"Convergence achieved\")"
      ]
    },
    {
      "cell_type": "markdown",
      "metadata": {
        "id": "2huLV2Th10M6"
      },
      "source": [
        "## Test algorithm"
      ]
    },
    {
      "cell_type": "code",
      "execution_count": 33,
      "metadata": {
        "colab": {
          "base_uri": "https://localhost:8080/"
        },
        "id": "GxwSMIa810M7",
        "outputId": "37f061ca-1ba4-4630-a601-f80999d42dc3"
      },
      "outputs": [
        {
          "name": "stderr",
          "output_type": "stream",
          "text": [
            "C:\\Users\\redce\\AppData\\Local\\Temp\\ipykernel_20544\\112726461.py:3: SettingWithCopyWarning: \n",
            "A value is trying to be set on a copy of a slice from a DataFrame.\n",
            "Try using .loc[row_indexer,col_indexer] = value instead\n",
            "\n",
            "See the caveats in the documentation: https://pandas.pydata.org/pandas-docs/stable/user_guide/indexing.html#returning-a-view-versus-a-copy\n",
            "  df['shift']=df[df.columns[0]].shift(1)\n",
            "C:\\Users\\redce\\AppData\\Local\\Temp\\ipykernel_20544\\112726461.py:4: SettingWithCopyWarning: \n",
            "A value is trying to be set on a copy of a slice from a DataFrame.\n",
            "Try using .loc[row_indexer,col_indexer] = value instead\n",
            "\n",
            "See the caveats in the documentation: https://pandas.pydata.org/pandas-docs/stable/user_guide/indexing.html#returning-a-view-versus-a-copy\n",
            "  df['PctChg']=(df[df.columns[0]]-df[\"shift\"]).div(df[\"shift\"])*100\n",
            "C:\\Users\\redce\\AppData\\Local\\Temp\\ipykernel_20544\\112726461.py:3: SettingWithCopyWarning: \n",
            "A value is trying to be set on a copy of a slice from a DataFrame.\n",
            "Try using .loc[row_indexer,col_indexer] = value instead\n",
            "\n",
            "See the caveats in the documentation: https://pandas.pydata.org/pandas-docs/stable/user_guide/indexing.html#returning-a-view-versus-a-copy\n",
            "  df['shift']=df[df.columns[0]].shift(1)\n",
            "C:\\Users\\redce\\AppData\\Local\\Temp\\ipykernel_20544\\112726461.py:4: SettingWithCopyWarning: \n",
            "A value is trying to be set on a copy of a slice from a DataFrame.\n",
            "Try using .loc[row_indexer,col_indexer] = value instead\n",
            "\n",
            "See the caveats in the documentation: https://pandas.pydata.org/pandas-docs/stable/user_guide/indexing.html#returning-a-view-versus-a-copy\n",
            "  df['PctChg']=(df[df.columns[0]]-df[\"shift\"]).div(df[\"shift\"])*100\n",
            "C:\\Users\\redce\\AppData\\Local\\Temp\\ipykernel_20544\\112726461.py:3: SettingWithCopyWarning: \n",
            "A value is trying to be set on a copy of a slice from a DataFrame.\n",
            "Try using .loc[row_indexer,col_indexer] = value instead\n",
            "\n",
            "See the caveats in the documentation: https://pandas.pydata.org/pandas-docs/stable/user_guide/indexing.html#returning-a-view-versus-a-copy\n",
            "  df['shift']=df[df.columns[0]].shift(1)\n",
            "C:\\Users\\redce\\AppData\\Local\\Temp\\ipykernel_20544\\112726461.py:4: SettingWithCopyWarning: \n",
            "A value is trying to be set on a copy of a slice from a DataFrame.\n",
            "Try using .loc[row_indexer,col_indexer] = value instead\n",
            "\n",
            "See the caveats in the documentation: https://pandas.pydata.org/pandas-docs/stable/user_guide/indexing.html#returning-a-view-versus-a-copy\n",
            "  df['PctChg']=(df[df.columns[0]]-df[\"shift\"]).div(df[\"shift\"])*100\n",
            "C:\\Users\\redce\\AppData\\Local\\Temp\\ipykernel_20544\\112726461.py:3: SettingWithCopyWarning: \n",
            "A value is trying to be set on a copy of a slice from a DataFrame.\n",
            "Try using .loc[row_indexer,col_indexer] = value instead\n",
            "\n",
            "See the caveats in the documentation: https://pandas.pydata.org/pandas-docs/stable/user_guide/indexing.html#returning-a-view-versus-a-copy\n",
            "  df['shift']=df[df.columns[0]].shift(1)\n",
            "C:\\Users\\redce\\AppData\\Local\\Temp\\ipykernel_20544\\112726461.py:4: SettingWithCopyWarning: \n",
            "A value is trying to be set on a copy of a slice from a DataFrame.\n",
            "Try using .loc[row_indexer,col_indexer] = value instead\n",
            "\n",
            "See the caveats in the documentation: https://pandas.pydata.org/pandas-docs/stable/user_guide/indexing.html#returning-a-view-versus-a-copy\n",
            "  df['PctChg']=(df[df.columns[0]]-df[\"shift\"]).div(df[\"shift\"])*100\n",
            "C:\\Users\\redce\\AppData\\Local\\Temp\\ipykernel_20544\\112726461.py:3: SettingWithCopyWarning: \n",
            "A value is trying to be set on a copy of a slice from a DataFrame.\n",
            "Try using .loc[row_indexer,col_indexer] = value instead\n",
            "\n",
            "See the caveats in the documentation: https://pandas.pydata.org/pandas-docs/stable/user_guide/indexing.html#returning-a-view-versus-a-copy\n",
            "  df['shift']=df[df.columns[0]].shift(1)\n",
            "C:\\Users\\redce\\AppData\\Local\\Temp\\ipykernel_20544\\112726461.py:4: SettingWithCopyWarning: \n",
            "A value is trying to be set on a copy of a slice from a DataFrame.\n",
            "Try using .loc[row_indexer,col_indexer] = value instead\n",
            "\n",
            "See the caveats in the documentation: https://pandas.pydata.org/pandas-docs/stable/user_guide/indexing.html#returning-a-view-versus-a-copy\n",
            "  df['PctChg']=(df[df.columns[0]]-df[\"shift\"]).div(df[\"shift\"])*100\n",
            "C:\\Users\\redce\\AppData\\Local\\Temp\\ipykernel_20544\\112726461.py:3: SettingWithCopyWarning: \n",
            "A value is trying to be set on a copy of a slice from a DataFrame.\n",
            "Try using .loc[row_indexer,col_indexer] = value instead\n",
            "\n",
            "See the caveats in the documentation: https://pandas.pydata.org/pandas-docs/stable/user_guide/indexing.html#returning-a-view-versus-a-copy\n",
            "  df['shift']=df[df.columns[0]].shift(1)\n",
            "C:\\Users\\redce\\AppData\\Local\\Temp\\ipykernel_20544\\112726461.py:4: SettingWithCopyWarning: \n",
            "A value is trying to be set on a copy of a slice from a DataFrame.\n",
            "Try using .loc[row_indexer,col_indexer] = value instead\n",
            "\n",
            "See the caveats in the documentation: https://pandas.pydata.org/pandas-docs/stable/user_guide/indexing.html#returning-a-view-versus-a-copy\n",
            "  df['PctChg']=(df[df.columns[0]]-df[\"shift\"]).div(df[\"shift\"])*100\n",
            "C:\\Users\\redce\\AppData\\Local\\Temp\\ipykernel_20544\\112726461.py:3: SettingWithCopyWarning: \n",
            "A value is trying to be set on a copy of a slice from a DataFrame.\n",
            "Try using .loc[row_indexer,col_indexer] = value instead\n",
            "\n",
            "See the caveats in the documentation: https://pandas.pydata.org/pandas-docs/stable/user_guide/indexing.html#returning-a-view-versus-a-copy\n",
            "  df['shift']=df[df.columns[0]].shift(1)\n",
            "C:\\Users\\redce\\AppData\\Local\\Temp\\ipykernel_20544\\112726461.py:4: SettingWithCopyWarning: \n",
            "A value is trying to be set on a copy of a slice from a DataFrame.\n",
            "Try using .loc[row_indexer,col_indexer] = value instead\n",
            "\n",
            "See the caveats in the documentation: https://pandas.pydata.org/pandas-docs/stable/user_guide/indexing.html#returning-a-view-versus-a-copy\n",
            "  df['PctChg']=(df[df.columns[0]]-df[\"shift\"]).div(df[\"shift\"])*100\n",
            "C:\\Users\\redce\\AppData\\Local\\Temp\\ipykernel_20544\\112726461.py:3: SettingWithCopyWarning: \n",
            "A value is trying to be set on a copy of a slice from a DataFrame.\n",
            "Try using .loc[row_indexer,col_indexer] = value instead\n",
            "\n",
            "See the caveats in the documentation: https://pandas.pydata.org/pandas-docs/stable/user_guide/indexing.html#returning-a-view-versus-a-copy\n",
            "  df['shift']=df[df.columns[0]].shift(1)\n",
            "C:\\Users\\redce\\AppData\\Local\\Temp\\ipykernel_20544\\112726461.py:4: SettingWithCopyWarning: \n",
            "A value is trying to be set on a copy of a slice from a DataFrame.\n",
            "Try using .loc[row_indexer,col_indexer] = value instead\n",
            "\n",
            "See the caveats in the documentation: https://pandas.pydata.org/pandas-docs/stable/user_guide/indexing.html#returning-a-view-versus-a-copy\n",
            "  df['PctChg']=(df[df.columns[0]]-df[\"shift\"]).div(df[\"shift\"])*100\n",
            "C:\\Users\\redce\\AppData\\Local\\Temp\\ipykernel_20544\\112726461.py:3: SettingWithCopyWarning: \n",
            "A value is trying to be set on a copy of a slice from a DataFrame.\n",
            "Try using .loc[row_indexer,col_indexer] = value instead\n",
            "\n",
            "See the caveats in the documentation: https://pandas.pydata.org/pandas-docs/stable/user_guide/indexing.html#returning-a-view-versus-a-copy\n",
            "  df['shift']=df[df.columns[0]].shift(1)\n",
            "C:\\Users\\redce\\AppData\\Local\\Temp\\ipykernel_20544\\112726461.py:4: SettingWithCopyWarning: \n",
            "A value is trying to be set on a copy of a slice from a DataFrame.\n",
            "Try using .loc[row_indexer,col_indexer] = value instead\n",
            "\n",
            "See the caveats in the documentation: https://pandas.pydata.org/pandas-docs/stable/user_guide/indexing.html#returning-a-view-versus-a-copy\n",
            "  df['PctChg']=(df[df.columns[0]]-df[\"shift\"]).div(df[\"shift\"])*100\n",
            "C:\\Users\\redce\\AppData\\Local\\Temp\\ipykernel_20544\\112726461.py:3: SettingWithCopyWarning: \n",
            "A value is trying to be set on a copy of a slice from a DataFrame.\n",
            "Try using .loc[row_indexer,col_indexer] = value instead\n",
            "\n",
            "See the caveats in the documentation: https://pandas.pydata.org/pandas-docs/stable/user_guide/indexing.html#returning-a-view-versus-a-copy\n",
            "  df['shift']=df[df.columns[0]].shift(1)\n",
            "C:\\Users\\redce\\AppData\\Local\\Temp\\ipykernel_20544\\112726461.py:4: SettingWithCopyWarning: \n",
            "A value is trying to be set on a copy of a slice from a DataFrame.\n",
            "Try using .loc[row_indexer,col_indexer] = value instead\n",
            "\n",
            "See the caveats in the documentation: https://pandas.pydata.org/pandas-docs/stable/user_guide/indexing.html#returning-a-view-versus-a-copy\n",
            "  df['PctChg']=(df[df.columns[0]]-df[\"shift\"]).div(df[\"shift\"])*100\n"
          ]
        }
      ],
      "source": [
        "# Create projections\n",
        "proj_dfs=gen_data(df, first_day = 2520-30, runs = 50, days = 30)"
      ]
    },
    {
      "cell_type": "code",
      "execution_count": 34,
      "metadata": {
        "colab": {
          "base_uri": "https://localhost:8080/",
          "height": 1000
        },
        "id": "hQKgBMIH10M8",
        "outputId": "fa1babd1-270c-4e2f-f331-b8bad1be1b07"
      },
      "outputs": [
        {
          "data": {
            "text/plain": [
              "<Axes: >"
            ]
          },
          "execution_count": 34,
          "metadata": {},
          "output_type": "execute_result"
        },
        {
          "data": {
            "image/png": "[encoded data removed]",
            "text/plain": [
              "<Figure size 1200x800 with 1 Axes>"
            ]
          },
          "metadata": {},
          "output_type": "display_data"
        }
      ],
      "source": [
        "# Plot one set of projections\n",
        "proj_dfs[0].plot(figsize=(12, 8))"
      ]
    },
    {
      "cell_type": "code",
      "execution_count": 23,
      "metadata": {
        "id": "fRdhZiCV10M9"
      },
      "outputs": [],
      "source": [
        "# Define GA inputs\n",
        "pop_size=25\n",
        "mutation_rate=.5"
      ]
    },
    {
      "cell_type": "code",
      "execution_count": 24,
      "metadata": {
        "id": "fdL-pTJG10M-"
      },
      "outputs": [],
      "source": [
        "# Create initial population and evaluate\n",
        "gen1=gen_population(pop_size, df)"
      ]
    },
    {
      "cell_type": "code",
      "execution_count": 25,
      "metadata": {
        "colab": {
          "base_uri": "https://localhost:8080/"
        },
        "id": "BRzkCC4910NA",
        "outputId": "6d4de91d-e45f-4433-c35a-6cff9245b1cd",
        "scrolled": true
      },
      "outputs": [
        {
          "name": "stdout",
          "output_type": "stream",
          "text": [
            "Generation Number 2\n",
            "---Processing\n",
            "---Sharpe: 2.752301353652706\n",
            "---Done\n",
            "Generation Number 3\n",
            "---Processing\n",
            "---Sharpe: 2.727945825800445\n",
            "---Done\n",
            "Generation Number 4\n",
            "---Processing\n",
            "---Sharpe: 2.750179680277752\n",
            "---Done\n",
            "Generation Number 5\n",
            "---Processing\n",
            "---Sharpe: 2.7628198747889443\n",
            "---Done\n",
            "Generation Number 6\n",
            "---Processing\n",
            "---Sharpe: 2.838323556856021\n",
            "---Done\n",
            "Generation Number 7\n",
            "---Processing\n",
            "---Sharpe: 2.8518767652617942\n",
            "---Done\n",
            "Generation Number 8\n",
            "---Processing\n",
            "---Sharpe: 2.84280502981471\n",
            "---Done\n",
            "Generation Number 9\n",
            "---Processing\n",
            "---Sharpe: 2.8342127780903024\n",
            "---Done\n",
            "Generation Number 10\n",
            "---Processing\n",
            "---Sharpe: 2.8664687045213686\n",
            "---Done\n",
            "Generation Number 11\n",
            "---Processing\n",
            "---Sharpe: 2.833485682052437\n",
            "---Done\n",
            "Generation Number 12\n",
            "---Processing\n",
            "---Sharpe: 2.873227400275415\n",
            "---Done\n",
            "Generation Number 13\n",
            "---Processing\n",
            "---Sharpe: 2.8706664221822438\n",
            "---Done\n",
            "Generation Number 14\n",
            "---Processing\n",
            "---Sharpe: 2.8675413617630308\n",
            "---Done\n",
            "Generation Number 15\n",
            "---Processing\n",
            "---Sharpe: 2.8795357002174393\n",
            "---Done\n",
            "Generation Number 16\n",
            "---Processing\n",
            "---Sharpe: 2.878648016927047\n",
            "---Done\n",
            "Generation Number 17\n",
            "---Processing\n",
            "---Sharpe: 2.8507087270330773\n",
            "---Done\n",
            "Generation Number 18\n",
            "---Processing\n",
            "---Sharpe: 2.8756143247748667\n",
            "---Done\n",
            "Generation Number 19\n",
            "---Processing\n",
            "---Sharpe: 2.873297493879787\n",
            "---Done\n",
            "Generation Number 20\n",
            "---Processing\n",
            "---Sharpe: 2.882434809490638\n",
            "---Done\n",
            "Generation Number 21\n",
            "---Processing\n",
            "---Sharpe: 2.864544681878731\n",
            "---Done\n",
            "Generation Number 22\n",
            "---Processing\n",
            "---Sharpe: 2.870866471345441\n",
            "---Done\n",
            "Generation Number 23\n",
            "---Processing\n",
            "---Sharpe: 2.8454186590763118\n",
            "---Done\n",
            "Generation Number 24\n",
            "---Processing\n",
            "---Sharpe: 2.846268963428252\n",
            "---Done\n",
            "Generation Number 25\n",
            "---Processing\n",
            "---Sharpe: 2.8977659802316214\n",
            "---Done\n",
            "Convergence achieved\n"
          ]
        }
      ],
      "source": [
        "# Run GA\n",
        "sharpes=evaluate_population(gen1, proj_dfs)\n",
        "high_fitness_weights={}\n",
        "convergence_count=[]\n",
        "genetic_algo(sharpes, gen1, pop_size, mutation_rate, df, proj_dfs)"
      ]
    },
    {
      "cell_type": "code",
      "execution_count": 26,
      "metadata": {
        "colab": {
          "base_uri": "https://localhost:8080/"
        },
        "id": "FnWORR_U10NB",
        "outputId": "7bb61025-97bb-4626-8550-508dd9557632"
      },
      "outputs": [
        {
          "name": "stdout",
          "output_type": "stream",
          "text": [
            "Max Sharpe: 2.8977659802316214\n",
            "Associated Weights: [0.00225194 0.07816927 0.17183009 0.1054229  0.000736   0.02444013\n",
            " 0.03636657 0.0015114  0.29087212 0.28839957]\n"
          ]
        }
      ],
      "source": [
        "max_sharpe=max(list(high_fitness_weights.items()))[0]\n",
        "best_weights=max(list(high_fitness_weights.items()))[1]\n",
        "print(\"Max Sharpe: \"+str(max_sharpe))\n",
        "print(\"Associated Weights: \"+str(best_weights))"
      ]
    }
  ],
  "metadata": {
    "colab": {
      "provenance": []
    },
    "kernelspec": {
      "display_name": "Python 3",
      "language": "python",
      "name": "python3"
    },
    "language_info": {
      "codemirror_mode": {
        "name": "ipython",
        "version": 3
      },
      "file_extension": ".py",
      "mimetype": "text/x-python",
      "name": "python",
      "nbconvert_exporter": "python",
      "pygments_lexer": "ipython3",
      "version": "3.9.13"
    }
  },
  "nbformat": 4,
  "nbformat_minor": 0
}
