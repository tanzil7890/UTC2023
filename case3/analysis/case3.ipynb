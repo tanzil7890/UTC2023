{
  "nbformat": 4,
  "nbformat_minor": 0,
  "metadata": {
    "colab": {
      "provenance": [],
      "collapsed_sections": [
        "hw-YyoA5ImU8",
        "44GD1CXrMjbQ"
      ]
    },
    "kernelspec": {
      "name": "python3",
      "display_name": "Python 3"
    },
    "language_info": {
      "name": "python"
    },
    "accelerator": "GPU",
    "gpuClass": "standard"
  },
  "cells": [
    {
      "cell_type": "code",
      "source": [
        "!pip install deepdow pyportfolioopt"
      ],
      "metadata": {
        "colab": {
          "base_uri": "https://localhost:8080/"
        },
        "id": "Ddz_Pls5GqDU",
        "outputId": "435e01e5-79e2-41a0-dcae-7746bc29e9df"
      },
      "execution_count": null,
      "outputs": [
        {
          "output_type": "stream",
          "name": "stdout",
          "text": [
            "Looking in indexes: https://pypi.org/simple, https://us-python.pkg.dev/colab-wheels/public/simple/\n",
            "Requirement already satisfied: deepdow in /usr/local/lib/python3.9/dist-packages (0.2.2)\n",
            "Collecting pyportfolioopt\n",
            "  Downloading pyportfolioopt-1.5.4-py3-none-any.whl (61 kB)\n",
            "\u001b[2K     \u001b[90m━━━━━━━━━━━━━━━━━━━━━━━━━━━━━━━━━━━━━━━━\u001b[0m \u001b[32m61.9/61.9 KB\u001b[0m \u001b[31m2.8 MB/s\u001b[0m eta \u001b[36m0:00:00\u001b[0m\n",
            "\u001b[?25hRequirement already satisfied: tqdm in /usr/local/lib/python3.9/dist-packages (from deepdow) (4.65.0)\n",
            "Requirement already satisfied: pillow in /usr/local/lib/python3.9/dist-packages (from deepdow) (8.4.0)\n",
            "Requirement already satisfied: seaborn in /usr/local/lib/python3.9/dist-packages (from deepdow) (0.12.2)\n",
            "Requirement already satisfied: tensorboard in /usr/local/lib/python3.9/dist-packages (from deepdow) (2.12.0)\n",
            "Requirement already satisfied: matplotlib in /usr/local/lib/python3.9/dist-packages (from deepdow) (3.7.1)\n",
            "Requirement already satisfied: pandas in /usr/local/lib/python3.9/dist-packages (from deepdow) (1.4.4)\n",
            "Requirement already satisfied: torch>=1.5 in /usr/local/lib/python3.9/dist-packages (from deepdow) (1.13.1+cu116)\n",
            "Requirement already satisfied: numpy>=1.16.5 in /usr/local/lib/python3.9/dist-packages (from deepdow) (1.22.4)\n",
            "Requirement already satisfied: mlflow in /usr/local/lib/python3.9/dist-packages (from deepdow) (2.2.2)\n",
            "Requirement already satisfied: cvxpylayers in /usr/local/lib/python3.9/dist-packages (from deepdow) (0.1.5)\n",
            "Requirement already satisfied: scipy<2.0,>=1.3 in /usr/local/lib/python3.9/dist-packages (from pyportfolioopt) (1.10.1)\n",
            "Requirement already satisfied: cvxpy<2.0.0,>=1.1.10 in /usr/local/lib/python3.9/dist-packages (from pyportfolioopt) (1.3.1)\n",
            "Requirement already satisfied: setuptools>65.5.1 in /usr/local/lib/python3.9/dist-packages (from cvxpy<2.0.0,>=1.1.10->pyportfolioopt) (67.6.1)\n",
            "Requirement already satisfied: osqp>=0.4.1 in /usr/local/lib/python3.9/dist-packages (from cvxpy<2.0.0,>=1.1.10->pyportfolioopt) (0.6.2.post0)\n",
            "Requirement already satisfied: ecos>=2 in /usr/local/lib/python3.9/dist-packages (from cvxpy<2.0.0,>=1.1.10->pyportfolioopt) (2.0.12)\n",
            "Requirement already satisfied: scs>=1.1.6 in /usr/local/lib/python3.9/dist-packages (from cvxpy<2.0.0,>=1.1.10->pyportfolioopt) (3.2.2)\n",
            "Requirement already satisfied: python-dateutil>=2.8.1 in /usr/local/lib/python3.9/dist-packages (from pandas->deepdow) (2.8.2)\n",
            "Requirement already satisfied: pytz>=2020.1 in /usr/local/lib/python3.9/dist-packages (from pandas->deepdow) (2022.7.1)\n",
            "Requirement already satisfied: typing-extensions in /usr/local/lib/python3.9/dist-packages (from torch>=1.5->deepdow) (4.5.0)\n",
            "Requirement already satisfied: diffcp>=1.0.13 in /usr/local/lib/python3.9/dist-packages (from cvxpylayers->deepdow) (1.0.22)\n",
            "Requirement already satisfied: cycler>=0.10 in /usr/local/lib/python3.9/dist-packages (from matplotlib->deepdow) (0.11.0)\n",
            "Requirement already satisfied: importlib-resources>=3.2.0 in /usr/local/lib/python3.9/dist-packages (from matplotlib->deepdow) (5.12.0)\n",
            "Requirement already satisfied: packaging>=20.0 in /usr/local/lib/python3.9/dist-packages (from matplotlib->deepdow) (23.0)\n",
            "Requirement already satisfied: fonttools>=4.22.0 in /usr/local/lib/python3.9/dist-packages (from matplotlib->deepdow) (4.39.3)\n",
            "Requirement already satisfied: kiwisolver>=1.0.1 in /usr/local/lib/python3.9/dist-packages (from matplotlib->deepdow) (1.4.4)\n",
            "Requirement already satisfied: pyparsing>=2.3.1 in /usr/local/lib/python3.9/dist-packages (from matplotlib->deepdow) (3.0.9)\n",
            "Requirement already satisfied: contourpy>=1.0.1 in /usr/local/lib/python3.9/dist-packages (from matplotlib->deepdow) (1.0.7)\n",
            "Requirement already satisfied: gunicorn<21 in /usr/local/lib/python3.9/dist-packages (from mlflow->deepdow) (20.1.0)\n",
            "Requirement already satisfied: databricks-cli<1,>=0.8.7 in /usr/local/lib/python3.9/dist-packages (from mlflow->deepdow) (0.17.6)\n",
            "Requirement already satisfied: Flask<3 in /usr/local/lib/python3.9/dist-packages (from mlflow->deepdow) (2.2.3)\n",
            "Requirement already satisfied: markdown<4,>=3.3 in /usr/local/lib/python3.9/dist-packages (from mlflow->deepdow) (3.4.3)\n",
            "Requirement already satisfied: pyyaml<7,>=5.1 in /usr/local/lib/python3.9/dist-packages (from mlflow->deepdow) (6.0)\n",
            "Requirement already satisfied: sqlalchemy<3,>=1.4.0 in /usr/local/lib/python3.9/dist-packages (from mlflow->deepdow) (1.4.47)\n",
            "Requirement already satisfied: requests<3,>=2.17.3 in /usr/local/lib/python3.9/dist-packages (from mlflow->deepdow) (2.27.1)\n",
            "Requirement already satisfied: shap<1,>=0.40 in /usr/local/lib/python3.9/dist-packages (from mlflow->deepdow) (0.41.0)\n",
            "Requirement already satisfied: sqlparse<1,>=0.4.0 in /usr/local/lib/python3.9/dist-packages (from mlflow->deepdow) (0.4.3)\n",
            "Requirement already satisfied: Jinja2<4,>=2.11 in /usr/local/lib/python3.9/dist-packages (from mlflow->deepdow) (3.1.2)\n",
            "Requirement already satisfied: importlib-metadata!=4.7.0,<7,>=3.7.0 in /usr/local/lib/python3.9/dist-packages (from mlflow->deepdow) (6.1.0)\n",
            "Requirement already satisfied: pyarrow<12,>=4.0.0 in /usr/local/lib/python3.9/dist-packages (from mlflow->deepdow) (9.0.0)\n",
            "Requirement already satisfied: click<9,>=7.0 in /usr/local/lib/python3.9/dist-packages (from mlflow->deepdow) (8.1.3)\n",
            "Requirement already satisfied: entrypoints<1 in /usr/local/lib/python3.9/dist-packages (from mlflow->deepdow) (0.4)\n",
            "Requirement already satisfied: cloudpickle<3 in /usr/local/lib/python3.9/dist-packages (from mlflow->deepdow) (2.2.1)\n",
            "Requirement already satisfied: scikit-learn<2 in /usr/local/lib/python3.9/dist-packages (from mlflow->deepdow) (1.2.2)\n",
            "Requirement already satisfied: gitpython<4,>=2.1.0 in /usr/local/lib/python3.9/dist-packages (from mlflow->deepdow) (3.1.31)\n",
            "Requirement already satisfied: protobuf<5,>=3.12.0 in /usr/local/lib/python3.9/dist-packages (from mlflow->deepdow) (3.20.3)\n",
            "Requirement already satisfied: alembic<2 in /usr/local/lib/python3.9/dist-packages (from mlflow->deepdow) (1.10.2)\n",
            "Requirement already satisfied: docker<7,>=4.0.0 in /usr/local/lib/python3.9/dist-packages (from mlflow->deepdow) (6.0.1)\n",
            "Requirement already satisfied: querystring-parser<2 in /usr/local/lib/python3.9/dist-packages (from mlflow->deepdow) (1.2.4)\n",
            "Requirement already satisfied: tensorboard-plugin-wit>=1.6.0 in /usr/local/lib/python3.9/dist-packages (from tensorboard->deepdow) (1.8.1)\n",
            "Requirement already satisfied: tensorboard-data-server<0.8.0,>=0.7.0 in /usr/local/lib/python3.9/dist-packages (from tensorboard->deepdow) (0.7.0)\n",
            "Requirement already satisfied: google-auth<3,>=1.6.3 in /usr/local/lib/python3.9/dist-packages (from tensorboard->deepdow) (2.17.0)\n",
            "Requirement already satisfied: google-auth-oauthlib<0.5,>=0.4.1 in /usr/local/lib/python3.9/dist-packages (from tensorboard->deepdow) (0.4.6)\n",
            "Requirement already satisfied: werkzeug>=1.0.1 in /usr/local/lib/python3.9/dist-packages (from tensorboard->deepdow) (2.2.3)\n",
            "Requirement already satisfied: absl-py>=0.4 in /usr/local/lib/python3.9/dist-packages (from tensorboard->deepdow) (1.4.0)\n",
            "Requirement already satisfied: wheel>=0.26 in /usr/local/lib/python3.9/dist-packages (from tensorboard->deepdow) (0.40.0)\n",
            "Requirement already satisfied: grpcio>=1.48.2 in /usr/local/lib/python3.9/dist-packages (from tensorboard->deepdow) (1.53.0)\n",
            "Requirement already satisfied: Mako in /usr/local/lib/python3.9/dist-packages (from alembic<2->mlflow->deepdow) (1.2.4)\n",
            "Requirement already satisfied: tabulate>=0.7.7 in /usr/local/lib/python3.9/dist-packages (from databricks-cli<1,>=0.8.7->mlflow->deepdow) (0.8.10)\n",
            "Requirement already satisfied: oauthlib>=3.1.0 in /usr/local/lib/python3.9/dist-packages (from databricks-cli<1,>=0.8.7->mlflow->deepdow) (3.2.2)\n",
            "Requirement already satisfied: six>=1.10.0 in /usr/local/lib/python3.9/dist-packages (from databricks-cli<1,>=0.8.7->mlflow->deepdow) (1.16.0)\n",
            "Requirement already satisfied: pyjwt>=1.7.0 in /usr/local/lib/python3.9/dist-packages (from databricks-cli<1,>=0.8.7->mlflow->deepdow) (2.6.0)\n",
            "Requirement already satisfied: threadpoolctl>=1.1 in /usr/local/lib/python3.9/dist-packages (from diffcp>=1.0.13->cvxpylayers->deepdow) (3.1.0)\n",
            "Requirement already satisfied: pybind11>=2.4 in /usr/local/lib/python3.9/dist-packages (from diffcp>=1.0.13->cvxpylayers->deepdow) (2.10.4)\n",
            "Requirement already satisfied: websocket-client>=0.32.0 in /usr/local/lib/python3.9/dist-packages (from docker<7,>=4.0.0->mlflow->deepdow) (1.5.1)\n",
            "Requirement already satisfied: urllib3>=1.26.0 in /usr/local/lib/python3.9/dist-packages (from docker<7,>=4.0.0->mlflow->deepdow) (1.26.15)\n",
            "Requirement already satisfied: itsdangerous>=2.0 in /usr/local/lib/python3.9/dist-packages (from Flask<3->mlflow->deepdow) (2.1.2)\n",
            "Requirement already satisfied: gitdb<5,>=4.0.1 in /usr/local/lib/python3.9/dist-packages (from gitpython<4,>=2.1.0->mlflow->deepdow) (4.0.10)\n",
            "Requirement already satisfied: rsa<5,>=3.1.4 in /usr/local/lib/python3.9/dist-packages (from google-auth<3,>=1.6.3->tensorboard->deepdow) (4.9)\n",
            "Requirement already satisfied: pyasn1-modules>=0.2.1 in /usr/local/lib/python3.9/dist-packages (from google-auth<3,>=1.6.3->tensorboard->deepdow) (0.2.8)\n",
            "Requirement already satisfied: cachetools<6.0,>=2.0.0 in /usr/local/lib/python3.9/dist-packages (from google-auth<3,>=1.6.3->tensorboard->deepdow) (5.3.0)\n",
            "Requirement already satisfied: requests-oauthlib>=0.7.0 in /usr/local/lib/python3.9/dist-packages (from google-auth-oauthlib<0.5,>=0.4.1->tensorboard->deepdow) (1.3.1)\n",
            "Requirement already satisfied: zipp>=0.5 in /usr/local/lib/python3.9/dist-packages (from importlib-metadata!=4.7.0,<7,>=3.7.0->mlflow->deepdow) (3.15.0)\n",
            "Requirement already satisfied: MarkupSafe>=2.0 in /usr/local/lib/python3.9/dist-packages (from Jinja2<4,>=2.11->mlflow->deepdow) (2.1.2)\n",
            "Requirement already satisfied: qdldl in /usr/local/lib/python3.9/dist-packages (from osqp>=0.4.1->cvxpy<2.0.0,>=1.1.10->pyportfolioopt) (0.1.5.post3)\n",
            "Requirement already satisfied: certifi>=2017.4.17 in /usr/local/lib/python3.9/dist-packages (from requests<3,>=2.17.3->mlflow->deepdow) (2022.12.7)\n",
            "Requirement already satisfied: idna<4,>=2.5 in /usr/local/lib/python3.9/dist-packages (from requests<3,>=2.17.3->mlflow->deepdow) (3.4)\n",
            "Requirement already satisfied: charset-normalizer~=2.0.0 in /usr/local/lib/python3.9/dist-packages (from requests<3,>=2.17.3->mlflow->deepdow) (2.0.12)\n",
            "Requirement already satisfied: joblib>=1.1.1 in /usr/local/lib/python3.9/dist-packages (from scikit-learn<2->mlflow->deepdow) (1.1.1)\n",
            "Requirement already satisfied: slicer==0.0.7 in /usr/local/lib/python3.9/dist-packages (from shap<1,>=0.40->mlflow->deepdow) (0.0.7)\n",
            "Requirement already satisfied: numba in /usr/local/lib/python3.9/dist-packages (from shap<1,>=0.40->mlflow->deepdow) (0.56.4)\n",
            "Requirement already satisfied: greenlet!=0.4.17 in /usr/local/lib/python3.9/dist-packages (from sqlalchemy<3,>=1.4.0->mlflow->deepdow) (2.0.2)\n",
            "Requirement already satisfied: smmap<6,>=3.0.1 in /usr/local/lib/python3.9/dist-packages (from gitdb<5,>=4.0.1->gitpython<4,>=2.1.0->mlflow->deepdow) (5.0.0)\n",
            "Requirement already satisfied: pyasn1<0.5.0,>=0.4.6 in /usr/local/lib/python3.9/dist-packages (from pyasn1-modules>=0.2.1->google-auth<3,>=1.6.3->tensorboard->deepdow) (0.4.8)\n",
            "Requirement already satisfied: llvmlite<0.40,>=0.39.0dev0 in /usr/local/lib/python3.9/dist-packages (from numba->shap<1,>=0.40->mlflow->deepdow) (0.39.1)\n",
            "Installing collected packages: pyportfolioopt\n",
            "Successfully installed pyportfolioopt-1.5.4\n"
          ]
        }
      ]
    },
    {
      "cell_type": "code",
      "execution_count": null,
      "metadata": {
        "id": "y_LgeFa7N2g8"
      },
      "outputs": [],
      "source": [
        "import numpy as np\n",
        "import pandas as pd\n",
        "import matplotlib.pyplot as plt\n",
        "from scipy.optimize import minimize\n",
        "\n",
        "import seaborn\n",
        "\n",
        "np.random.seed(5)"
      ]
    },
    {
      "cell_type": "code",
      "source": [
        "assets = pd.read_csv('/content/drive/MyDrive/uchicago trading/Training Data_Case 3.csv', index_col=0)\n",
        "assets"
      ],
      "metadata": {
        "colab": {
          "base_uri": "https://localhost:8080/",
          "height": 424
        },
        "id": "vf8rTH7wOFf8",
        "outputId": "8c62ea3e-bc8a-41f3-b39c-381d15298c96"
      },
      "execution_count": null,
      "outputs": [
        {
          "output_type": "execute_result",
          "data": {
            "text/plain": [
              "           A        B       C       D      E      F       G       H      I  \\\n",
              "1     119.96   198.25   76.54   32.08  53.20  19.47   40.63   43.47  19.76   \n",
              "2     120.32   201.42   76.73   31.86  53.88  19.23   40.47   45.16  19.88   \n",
              "3     119.60   200.23   77.60   31.56  55.11  18.93   39.84   46.03  20.29   \n",
              "4     121.76   199.61   79.48   31.62  55.80  19.15   40.13   46.89  20.01   \n",
              "5     120.10   199.64   81.49   31.89  55.02  19.16   39.94   47.59  20.12   \n",
              "...      ...      ...     ...     ...    ...    ...     ...     ...    ...   \n",
              "2516  317.31  1385.04  199.14  273.02  52.11  89.45  151.54  390.13  88.25   \n",
              "2517  317.20  1358.01  202.59  277.45  52.73  90.93  152.39  394.03  87.56   \n",
              "2518  312.31  1315.00  198.29  281.23  52.71  92.28  153.92  375.70  89.54   \n",
              "2519  312.45  1319.59  200.78  282.77  52.26  93.49  155.26  368.33  91.36   \n",
              "2520  314.02  1313.26  204.65  288.71  52.97  94.15  156.17  352.78  92.05   \n",
              "\n",
              "           J  \n",
              "1     113.91  \n",
              "2     112.98  \n",
              "3     114.24  \n",
              "4     114.27  \n",
              "5     113.87  \n",
              "...      ...  \n",
              "2516   35.99  \n",
              "2517   35.89  \n",
              "2518   36.13  \n",
              "2519   35.15  \n",
              "2520   34.59  \n",
              "\n",
              "[2520 rows x 10 columns]"
            ],
            "text/html": [
              "\n",
              "  <div id=\"df-313a1477-7542-4dfc-a652-351a0eb8fd97\">\n",
              "    <div class=\"colab-df-container\">\n",
              "      <div>\n",
              "<style scoped>\n",
              "    .dataframe tbody tr th:only-of-type {\n",
              "        vertical-align: middle;\n",
              "    }\n",
              "\n",
              "    .dataframe tbody tr th {\n",
              "        vertical-align: top;\n",
              "    }\n",
              "\n",
              "    .dataframe thead th {\n",
              "        text-align: right;\n",
              "    }\n",
              "</style>\n",
              "<table border=\"1\" class=\"dataframe\">\n",
              "  <thead>\n",
              "    <tr style=\"text-align: right;\">\n",
              "      <th></th>\n",
              "      <th>A</th>\n",
              "      <th>B</th>\n",
              "      <th>C</th>\n",
              "      <th>D</th>\n",
              "      <th>E</th>\n",
              "      <th>F</th>\n",
              "      <th>G</th>\n",
              "      <th>H</th>\n",
              "      <th>I</th>\n",
              "      <th>J</th>\n",
              "    </tr>\n",
              "  </thead>\n",
              "  <tbody>\n",
              "    <tr>\n",
              "      <th>1</th>\n",
              "      <td>119.96</td>\n",
              "      <td>198.25</td>\n",
              "      <td>76.54</td>\n",
              "      <td>32.08</td>\n",
              "      <td>53.20</td>\n",
              "      <td>19.47</td>\n",
              "      <td>40.63</td>\n",
              "      <td>43.47</td>\n",
              "      <td>19.76</td>\n",
              "      <td>113.91</td>\n",
              "    </tr>\n",
              "    <tr>\n",
              "      <th>2</th>\n",
              "      <td>120.32</td>\n",
              "      <td>201.42</td>\n",
              "      <td>76.73</td>\n",
              "      <td>31.86</td>\n",
              "      <td>53.88</td>\n",
              "      <td>19.23</td>\n",
              "      <td>40.47</td>\n",
              "      <td>45.16</td>\n",
              "      <td>19.88</td>\n",
              "      <td>112.98</td>\n",
              "    </tr>\n",
              "    <tr>\n",
              "      <th>3</th>\n",
              "      <td>119.60</td>\n",
              "      <td>200.23</td>\n",
              "      <td>77.60</td>\n",
              "      <td>31.56</td>\n",
              "      <td>55.11</td>\n",
              "      <td>18.93</td>\n",
              "      <td>39.84</td>\n",
              "      <td>46.03</td>\n",
              "      <td>20.29</td>\n",
              "      <td>114.24</td>\n",
              "    </tr>\n",
              "    <tr>\n",
              "      <th>4</th>\n",
              "      <td>121.76</td>\n",
              "      <td>199.61</td>\n",
              "      <td>79.48</td>\n",
              "      <td>31.62</td>\n",
              "      <td>55.80</td>\n",
              "      <td>19.15</td>\n",
              "      <td>40.13</td>\n",
              "      <td>46.89</td>\n",
              "      <td>20.01</td>\n",
              "      <td>114.27</td>\n",
              "    </tr>\n",
              "    <tr>\n",
              "      <th>5</th>\n",
              "      <td>120.10</td>\n",
              "      <td>199.64</td>\n",
              "      <td>81.49</td>\n",
              "      <td>31.89</td>\n",
              "      <td>55.02</td>\n",
              "      <td>19.16</td>\n",
              "      <td>39.94</td>\n",
              "      <td>47.59</td>\n",
              "      <td>20.12</td>\n",
              "      <td>113.87</td>\n",
              "    </tr>\n",
              "    <tr>\n",
              "      <th>...</th>\n",
              "      <td>...</td>\n",
              "      <td>...</td>\n",
              "      <td>...</td>\n",
              "      <td>...</td>\n",
              "      <td>...</td>\n",
              "      <td>...</td>\n",
              "      <td>...</td>\n",
              "      <td>...</td>\n",
              "      <td>...</td>\n",
              "      <td>...</td>\n",
              "    </tr>\n",
              "    <tr>\n",
              "      <th>2516</th>\n",
              "      <td>317.31</td>\n",
              "      <td>1385.04</td>\n",
              "      <td>199.14</td>\n",
              "      <td>273.02</td>\n",
              "      <td>52.11</td>\n",
              "      <td>89.45</td>\n",
              "      <td>151.54</td>\n",
              "      <td>390.13</td>\n",
              "      <td>88.25</td>\n",
              "      <td>35.99</td>\n",
              "    </tr>\n",
              "    <tr>\n",
              "      <th>2517</th>\n",
              "      <td>317.20</td>\n",
              "      <td>1358.01</td>\n",
              "      <td>202.59</td>\n",
              "      <td>277.45</td>\n",
              "      <td>52.73</td>\n",
              "      <td>90.93</td>\n",
              "      <td>152.39</td>\n",
              "      <td>394.03</td>\n",
              "      <td>87.56</td>\n",
              "      <td>35.89</td>\n",
              "    </tr>\n",
              "    <tr>\n",
              "      <th>2518</th>\n",
              "      <td>312.31</td>\n",
              "      <td>1315.00</td>\n",
              "      <td>198.29</td>\n",
              "      <td>281.23</td>\n",
              "      <td>52.71</td>\n",
              "      <td>92.28</td>\n",
              "      <td>153.92</td>\n",
              "      <td>375.70</td>\n",
              "      <td>89.54</td>\n",
              "      <td>36.13</td>\n",
              "    </tr>\n",
              "    <tr>\n",
              "      <th>2519</th>\n",
              "      <td>312.45</td>\n",
              "      <td>1319.59</td>\n",
              "      <td>200.78</td>\n",
              "      <td>282.77</td>\n",
              "      <td>52.26</td>\n",
              "      <td>93.49</td>\n",
              "      <td>155.26</td>\n",
              "      <td>368.33</td>\n",
              "      <td>91.36</td>\n",
              "      <td>35.15</td>\n",
              "    </tr>\n",
              "    <tr>\n",
              "      <th>2520</th>\n",
              "      <td>314.02</td>\n",
              "      <td>1313.26</td>\n",
              "      <td>204.65</td>\n",
              "      <td>288.71</td>\n",
              "      <td>52.97</td>\n",
              "      <td>94.15</td>\n",
              "      <td>156.17</td>\n",
              "      <td>352.78</td>\n",
              "      <td>92.05</td>\n",
              "      <td>34.59</td>\n",
              "    </tr>\n",
              "  </tbody>\n",
              "</table>\n",
              "<p>2520 rows × 10 columns</p>\n",
              "</div>\n",
              "      <button class=\"colab-df-convert\" onclick=\"convertToInteractive('df-313a1477-7542-4dfc-a652-351a0eb8fd97')\"\n",
              "              title=\"Convert this dataframe to an interactive table.\"\n",
              "              style=\"display:none;\">\n",
              "        \n",
              "  <svg xmlns=\"http://www.w3.org/2000/svg\" height=\"24px\"viewBox=\"0 0 24 24\"\n",
              "       width=\"24px\">\n",
              "    <path d=\"M0 0h24v24H0V0z\" fill=\"none\"/>\n",
              "    <path d=\"M18.56 5.44l.94 2.06.94-2.06 2.06-.94-2.06-.94-.94-2.06-.94 2.06-2.06.94zm-11 1L8.5 8.5l.94-2.06 2.06-.94-2.06-.94L8.5 2.5l-.94 2.06-2.06.94zm10 10l.94 2.06.94-2.06 2.06-.94-2.06-.94-.94-2.06-.94 2.06-2.06.94z\"/><path d=\"M17.41 7.96l-1.37-1.37c-.4-.4-.92-.59-1.43-.59-.52 0-1.04.2-1.43.59L10.3 9.45l-7.72 7.72c-.78.78-.78 2.05 0 2.83L4 21.41c.39.39.9.59 1.41.59.51 0 1.02-.2 1.41-.59l7.78-7.78 2.81-2.81c.8-.78.8-2.07 0-2.86zM5.41 20L4 18.59l7.72-7.72 1.47 1.35L5.41 20z\"/>\n",
              "  </svg>\n",
              "      </button>\n",
              "      \n",
              "  <style>\n",
              "    .colab-df-container {\n",
              "      display:flex;\n",
              "      flex-wrap:wrap;\n",
              "      gap: 12px;\n",
              "    }\n",
              "\n",
              "    .colab-df-convert {\n",
              "      background-color: #E8F0FE;\n",
              "      border: none;\n",
              "      border-radius: 50%;\n",
              "      cursor: pointer;\n",
              "      display: none;\n",
              "      fill: #1967D2;\n",
              "      height: 32px;\n",
              "      padding: 0 0 0 0;\n",
              "      width: 32px;\n",
              "    }\n",
              "\n",
              "    .colab-df-convert:hover {\n",
              "      background-color: #E2EBFA;\n",
              "      box-shadow: 0px 1px 2px rgba(60, 64, 67, 0.3), 0px 1px 3px 1px rgba(60, 64, 67, 0.15);\n",
              "      fill: #174EA6;\n",
              "    }\n",
              "\n",
              "    [theme=dark] .colab-df-convert {\n",
              "      background-color: #3B4455;\n",
              "      fill: #D2E3FC;\n",
              "    }\n",
              "\n",
              "    [theme=dark] .colab-df-convert:hover {\n",
              "      background-color: #434B5C;\n",
              "      box-shadow: 0px 1px 3px 1px rgba(0, 0, 0, 0.15);\n",
              "      filter: drop-shadow(0px 1px 2px rgba(0, 0, 0, 0.3));\n",
              "      fill: #FFFFFF;\n",
              "    }\n",
              "  </style>\n",
              "\n",
              "      <script>\n",
              "        const buttonEl =\n",
              "          document.querySelector('#df-313a1477-7542-4dfc-a652-351a0eb8fd97 button.colab-df-convert');\n",
              "        buttonEl.style.display =\n",
              "          google.colab.kernel.accessAllowed ? 'block' : 'none';\n",
              "\n",
              "        async function convertToInteractive(key) {\n",
              "          const element = document.querySelector('#df-313a1477-7542-4dfc-a652-351a0eb8fd97');\n",
              "          const dataTable =\n",
              "            await google.colab.kernel.invokeFunction('convertToInteractive',\n",
              "                                                     [key], {});\n",
              "          if (!dataTable) return;\n",
              "\n",
              "          const docLinkHtml = 'Like what you see? Visit the ' +\n",
              "            '<a target=\"_blank\" href=https://colab.research.google.com/notebooks/data_table.ipynb>data table notebook</a>'\n",
              "            + ' to learn more about interactive tables.';\n",
              "          element.innerHTML = '';\n",
              "          dataTable['output_type'] = 'display_data';\n",
              "          await google.colab.output.renderOutput(dataTable, element);\n",
              "          const docLink = document.createElement('div');\n",
              "          docLink.innerHTML = docLinkHtml;\n",
              "          element.appendChild(docLink);\n",
              "        }\n",
              "      </script>\n",
              "    </div>\n",
              "  </div>\n",
              "  "
            ]
          },
          "metadata": {},
          "execution_count": 23
        }
      ]
    },
    {
      "cell_type": "code",
      "source": [
        "assets.plot()"
      ],
      "metadata": {
        "colab": {
          "base_uri": "https://localhost:8080/",
          "height": 448
        },
        "id": "gDg1XGt6OT-m",
        "outputId": "19172179-ea56-4e33-a5eb-77b2790bd14d"
      },
      "execution_count": null,
      "outputs": [
        {
          "output_type": "execute_result",
          "data": {
            "text/plain": [
              "<Axes: >"
            ]
          },
          "metadata": {},
          "execution_count": 24
        },
        {
          "output_type": "display_data",
          "data": {
            "text/plain": [
              "<Figure size 640x480 with 1 Axes>"
            ],
            "image/png": "[encoded data removed]"
          },
          "metadata": {}
        }
      ]
    },
    {
      "cell_type": "code",
      "source": [
        "corr_df = assets.corr(method='pearson')\n",
        "#reset symbol as index (rather than 0-X)\n",
        "corr_df.head().reset_index()\n",
        "#del corr_df.index.name\n",
        "corr_df"
      ],
      "metadata": {
        "colab": {
          "base_uri": "https://localhost:8080/",
          "height": 363
        },
        "id": "FXpNiz-FPw7G",
        "outputId": "8631b2d0-782e-40b6-d5d4-c3bc5461862f"
      },
      "execution_count": null,
      "outputs": [
        {
          "output_type": "execute_result",
          "data": {
            "text/plain": [
              "          A         B         C         D         E         F         G  \\\n",
              "A  1.000000  0.907763  0.876312  0.977546 -0.585680  0.976689  0.947130   \n",
              "B  0.907763  1.000000  0.952322  0.949021 -0.563379  0.902734  0.934653   \n",
              "C  0.876312  0.952322  1.000000  0.913316 -0.602664  0.896976  0.937151   \n",
              "D  0.977546  0.949021  0.913316  1.000000 -0.606136  0.979219  0.970006   \n",
              "E -0.585680 -0.563379 -0.602664 -0.606136  1.000000 -0.627725 -0.640013   \n",
              "F  0.976689  0.902734  0.896976  0.979219 -0.627725  1.000000  0.966342   \n",
              "G  0.947130  0.934653  0.937151  0.970006 -0.640013  0.966342  1.000000   \n",
              "H  0.588398  0.756198  0.680581  0.656929 -0.043075  0.564128  0.614272   \n",
              "I  0.931284  0.960922  0.907120  0.952789 -0.656586  0.920264  0.924578   \n",
              "J -0.796871 -0.863604 -0.822143 -0.851680  0.772634 -0.810844 -0.839205   \n",
              "\n",
              "          H         I         J  \n",
              "A  0.588398  0.931284 -0.796871  \n",
              "B  0.756198  0.960922 -0.863604  \n",
              "C  0.680581  0.907120 -0.822143  \n",
              "D  0.656929  0.952789 -0.851680  \n",
              "E -0.043075 -0.656586  0.772634  \n",
              "F  0.564128  0.920264 -0.810844  \n",
              "G  0.614272  0.924578 -0.839205  \n",
              "H  1.000000  0.656634 -0.550657  \n",
              "I  0.656634  1.000000 -0.887359  \n",
              "J -0.550657 -0.887359  1.000000  "
            ],
            "text/html": [
              "\n",
              "  <div id=\"df-cad21b54-b023-4002-ba68-6a1d8b454231\">\n",
              "    <div class=\"colab-df-container\">\n",
              "      <div>\n",
              "<style scoped>\n",
              "    .dataframe tbody tr th:only-of-type {\n",
              "        vertical-align: middle;\n",
              "    }\n",
              "\n",
              "    .dataframe tbody tr th {\n",
              "        vertical-align: top;\n",
              "    }\n",
              "\n",
              "    .dataframe thead th {\n",
              "        text-align: right;\n",
              "    }\n",
              "</style>\n",
              "<table border=\"1\" class=\"dataframe\">\n",
              "  <thead>\n",
              "    <tr style=\"text-align: right;\">\n",
              "      <th></th>\n",
              "      <th>A</th>\n",
              "      <th>B</th>\n",
              "      <th>C</th>\n",
              "      <th>D</th>\n",
              "      <th>E</th>\n",
              "      <th>F</th>\n",
              "      <th>G</th>\n",
              "      <th>H</th>\n",
              "      <th>I</th>\n",
              "      <th>J</th>\n",
              "    </tr>\n",
              "  </thead>\n",
              "  <tbody>\n",
              "    <tr>\n",
              "      <th>A</th>\n",
              "      <td>1.000000</td>\n",
              "      <td>0.907763</td>\n",
              "      <td>0.876312</td>\n",
              "      <td>0.977546</td>\n",
              "      <td>-0.585680</td>\n",
              "      <td>0.976689</td>\n",
              "      <td>0.947130</td>\n",
              "      <td>0.588398</td>\n",
              "      <td>0.931284</td>\n",
              "      <td>-0.796871</td>\n",
              "    </tr>\n",
              "    <tr>\n",
              "      <th>B</th>\n",
              "      <td>0.907763</td>\n",
              "      <td>1.000000</td>\n",
              "      <td>0.952322</td>\n",
              "      <td>0.949021</td>\n",
              "      <td>-0.563379</td>\n",
              "      <td>0.902734</td>\n",
              "      <td>0.934653</td>\n",
              "      <td>0.756198</td>\n",
              "      <td>0.960922</td>\n",
              "      <td>-0.863604</td>\n",
              "    </tr>\n",
              "    <tr>\n",
              "      <th>C</th>\n",
              "      <td>0.876312</td>\n",
              "      <td>0.952322</td>\n",
              "      <td>1.000000</td>\n",
              "      <td>0.913316</td>\n",
              "      <td>-0.602664</td>\n",
              "      <td>0.896976</td>\n",
              "      <td>0.937151</td>\n",
              "      <td>0.680581</td>\n",
              "      <td>0.907120</td>\n",
              "      <td>-0.822143</td>\n",
              "    </tr>\n",
              "    <tr>\n",
              "      <th>D</th>\n",
              "      <td>0.977546</td>\n",
              "      <td>0.949021</td>\n",
              "      <td>0.913316</td>\n",
              "      <td>1.000000</td>\n",
              "      <td>-0.606136</td>\n",
              "      <td>0.979219</td>\n",
              "      <td>0.970006</td>\n",
              "      <td>0.656929</td>\n",
              "      <td>0.952789</td>\n",
              "      <td>-0.851680</td>\n",
              "    </tr>\n",
              "    <tr>\n",
              "      <th>E</th>\n",
              "      <td>-0.585680</td>\n",
              "      <td>-0.563379</td>\n",
              "      <td>-0.602664</td>\n",
              "      <td>-0.606136</td>\n",
              "      <td>1.000000</td>\n",
              "      <td>-0.627725</td>\n",
              "      <td>-0.640013</td>\n",
              "      <td>-0.043075</td>\n",
              "      <td>-0.656586</td>\n",
              "      <td>0.772634</td>\n",
              "    </tr>\n",
              "    <tr>\n",
              "      <th>F</th>\n",
              "      <td>0.976689</td>\n",
              "      <td>0.902734</td>\n",
              "      <td>0.896976</td>\n",
              "      <td>0.979219</td>\n",
              "      <td>-0.627725</td>\n",
              "      <td>1.000000</td>\n",
              "      <td>0.966342</td>\n",
              "      <td>0.564128</td>\n",
              "      <td>0.920264</td>\n",
              "      <td>-0.810844</td>\n",
              "    </tr>\n",
              "    <tr>\n",
              "      <th>G</th>\n",
              "      <td>0.947130</td>\n",
              "      <td>0.934653</td>\n",
              "      <td>0.937151</td>\n",
              "      <td>0.970006</td>\n",
              "      <td>-0.640013</td>\n",
              "      <td>0.966342</td>\n",
              "      <td>1.000000</td>\n",
              "      <td>0.614272</td>\n",
              "      <td>0.924578</td>\n",
              "      <td>-0.839205</td>\n",
              "    </tr>\n",
              "    <tr>\n",
              "      <th>H</th>\n",
              "      <td>0.588398</td>\n",
              "      <td>0.756198</td>\n",
              "      <td>0.680581</td>\n",
              "      <td>0.656929</td>\n",
              "      <td>-0.043075</td>\n",
              "      <td>0.564128</td>\n",
              "      <td>0.614272</td>\n",
              "      <td>1.000000</td>\n",
              "      <td>0.656634</td>\n",
              "      <td>-0.550657</td>\n",
              "    </tr>\n",
              "    <tr>\n",
              "      <th>I</th>\n",
              "      <td>0.931284</td>\n",
              "      <td>0.960922</td>\n",
              "      <td>0.907120</td>\n",
              "      <td>0.952789</td>\n",
              "      <td>-0.656586</td>\n",
              "      <td>0.920264</td>\n",
              "      <td>0.924578</td>\n",
              "      <td>0.656634</td>\n",
              "      <td>1.000000</td>\n",
              "      <td>-0.887359</td>\n",
              "    </tr>\n",
              "    <tr>\n",
              "      <th>J</th>\n",
              "      <td>-0.796871</td>\n",
              "      <td>-0.863604</td>\n",
              "      <td>-0.822143</td>\n",
              "      <td>-0.851680</td>\n",
              "      <td>0.772634</td>\n",
              "      <td>-0.810844</td>\n",
              "      <td>-0.839205</td>\n",
              "      <td>-0.550657</td>\n",
              "      <td>-0.887359</td>\n",
              "      <td>1.000000</td>\n",
              "    </tr>\n",
              "  </tbody>\n",
              "</table>\n",
              "</div>\n",
              "      <button class=\"colab-df-convert\" onclick=\"convertToInteractive('df-cad21b54-b023-4002-ba68-6a1d8b454231')\"\n",
              "              title=\"Convert this dataframe to an interactive table.\"\n",
              "              style=\"display:none;\">\n",
              "        \n",
              "  <svg xmlns=\"http://www.w3.org/2000/svg\" height=\"24px\"viewBox=\"0 0 24 24\"\n",
              "       width=\"24px\">\n",
              "    <path d=\"M0 0h24v24H0V0z\" fill=\"none\"/>\n",
              "    <path d=\"M18.56 5.44l.94 2.06.94-2.06 2.06-.94-2.06-.94-.94-2.06-.94 2.06-2.06.94zm-11 1L8.5 8.5l.94-2.06 2.06-.94-2.06-.94L8.5 2.5l-.94 2.06-2.06.94zm10 10l.94 2.06.94-2.06 2.06-.94-2.06-.94-.94-2.06-.94 2.06-2.06.94z\"/><path d=\"M17.41 7.96l-1.37-1.37c-.4-.4-.92-.59-1.43-.59-.52 0-1.04.2-1.43.59L10.3 9.45l-7.72 7.72c-.78.78-.78 2.05 0 2.83L4 21.41c.39.39.9.59 1.41.59.51 0 1.02-.2 1.41-.59l7.78-7.78 2.81-2.81c.8-.78.8-2.07 0-2.86zM5.41 20L4 18.59l7.72-7.72 1.47 1.35L5.41 20z\"/>\n",
              "  </svg>\n",
              "      </button>\n",
              "      \n",
              "  <style>\n",
              "    .colab-df-container {\n",
              "      display:flex;\n",
              "      flex-wrap:wrap;\n",
              "      gap: 12px;\n",
              "    }\n",
              "\n",
              "    .colab-df-convert {\n",
              "      background-color: #E8F0FE;\n",
              "      border: none;\n",
              "      border-radius: 50%;\n",
              "      cursor: pointer;\n",
              "      display: none;\n",
              "      fill: #1967D2;\n",
              "      height: 32px;\n",
              "      padding: 0 0 0 0;\n",
              "      width: 32px;\n",
              "    }\n",
              "\n",
              "    .colab-df-convert:hover {\n",
              "      background-color: #E2EBFA;\n",
              "      box-shadow: 0px 1px 2px rgba(60, 64, 67, 0.3), 0px 1px 3px 1px rgba(60, 64, 67, 0.15);\n",
              "      fill: #174EA6;\n",
              "    }\n",
              "\n",
              "    [theme=dark] .colab-df-convert {\n",
              "      background-color: #3B4455;\n",
              "      fill: #D2E3FC;\n",
              "    }\n",
              "\n",
              "    [theme=dark] .colab-df-convert:hover {\n",
              "      background-color: #434B5C;\n",
              "      box-shadow: 0px 1px 3px 1px rgba(0, 0, 0, 0.15);\n",
              "      filter: drop-shadow(0px 1px 2px rgba(0, 0, 0, 0.3));\n",
              "      fill: #FFFFFF;\n",
              "    }\n",
              "  </style>\n",
              "\n",
              "      <script>\n",
              "        const buttonEl =\n",
              "          document.querySelector('#df-cad21b54-b023-4002-ba68-6a1d8b454231 button.colab-df-convert');\n",
              "        buttonEl.style.display =\n",
              "          google.colab.kernel.accessAllowed ? 'block' : 'none';\n",
              "\n",
              "        async function convertToInteractive(key) {\n",
              "          const element = document.querySelector('#df-cad21b54-b023-4002-ba68-6a1d8b454231');\n",
              "          const dataTable =\n",
              "            await google.colab.kernel.invokeFunction('convertToInteractive',\n",
              "                                                     [key], {});\n",
              "          if (!dataTable) return;\n",
              "\n",
              "          const docLinkHtml = 'Like what you see? Visit the ' +\n",
              "            '<a target=\"_blank\" href=https://colab.research.google.com/notebooks/data_table.ipynb>data table notebook</a>'\n",
              "            + ' to learn more about interactive tables.';\n",
              "          element.innerHTML = '';\n",
              "          dataTable['output_type'] = 'display_data';\n",
              "          await google.colab.output.renderOutput(dataTable, element);\n",
              "          const docLink = document.createElement('div');\n",
              "          docLink.innerHTML = docLinkHtml;\n",
              "          element.appendChild(docLink);\n",
              "        }\n",
              "      </script>\n",
              "    </div>\n",
              "  </div>\n",
              "  "
            ]
          },
          "metadata": {},
          "execution_count": 25
        }
      ]
    },
    {
      "cell_type": "code",
      "source": [
        "plt.figure(figsize=(7, 6))\n",
        "seaborn.heatmap(corr_df, annot=True, cmap='RdYlGn')\n",
        "plt.figure()"
      ],
      "metadata": {
        "colab": {
          "base_uri": "https://localhost:8080/",
          "height": 565
        },
        "id": "5GqFIoOtQG0z",
        "outputId": "6fd78c8b-a191-4765-c624-355735fd4126"
      },
      "execution_count": null,
      "outputs": [
        {
          "output_type": "execute_result",
          "data": {
            "text/plain": [
              "<Figure size 640x480 with 0 Axes>"
            ]
          },
          "metadata": {},
          "execution_count": 26
        },
        {
          "output_type": "display_data",
          "data": {
            "text/plain": [
              "<Figure size 700x600 with 2 Axes>"
            ],
            "image/png": "[encoded data removed]"
          },
          "metadata": {}
        },
        {
          "output_type": "display_data",
          "data": {
            "text/plain": [
              "<Figure size 640x480 with 0 Axes>"
            ]
          },
          "metadata": {}
        }
      ]
    },
    {
      "cell_type": "markdown",
      "source": [
        "# Different Types of Optimizers and Allocating Methods\n",
        "What we want is a high sharpe ratio."
      ],
      "metadata": {
        "id": "DONJr5CnIDJ7"
      }
    },
    {
      "cell_type": "markdown",
      "source": [
        "## Mean-Variance Optimization"
      ],
      "metadata": {
        "id": "CJ9lvnbg3poa"
      }
    },
    {
      "cell_type": "code",
      "source": [
        "data = assets\n",
        "# Calculate expected returns and covariance matrix\n",
        "returns = data.pct_change().mean() * 252\n",
        "cov_matrix = data.pct_change().cov() * 252"
      ],
      "metadata": {
        "id": "wUzoyo-ckFyU"
      },
      "execution_count": null,
      "outputs": []
    },
    {
      "cell_type": "code",
      "source": [
        "def optimize_portfolio(returns, cov_matrix):\n",
        "    \"\"\"\n",
        "    Optimize portfolio allocation using mean-variance optimization\n",
        "    \"\"\"\n",
        "    n_assets = len(returns)\n",
        "    args = (returns, cov_matrix)\n",
        "\n",
        "    def portfolio_variance(weights, returns, cov_matrix):\n",
        "        \"\"\"\n",
        "        Calculate portfolio variance given weights\n",
        "        \"\"\"\n",
        "        return np.dot(weights.T, np.dot(cov_matrix, weights))\n",
        "\n",
        "    def portfolio_return(weights, returns, cov_matrix):\n",
        "        \"\"\"\n",
        "        Calculate portfolio return given weights\n",
        "        \"\"\"\n",
        "        return np.dot(weights.T, returns)\n",
        "\n",
        "    # Constraints\n",
        "    constraints = ({'type': 'eq', 'fun': lambda x: np.sum(x) - 1})\n",
        "\n",
        "    # Bounds\n",
        "    bounds = tuple((0, 1) for _ in range(n_assets))\n",
        "\n",
        "    # Initial guess (equal allocation)\n",
        "    init_guess = np.ones(n_assets) / n_assets\n",
        "\n",
        "    # Optimization\n",
        "    result = minimize(portfolio_variance, init_guess, args=args,\n",
        "                      method='SLSQP', bounds=bounds, constraints=constraints)\n",
        "\n",
        "    if not result.success:\n",
        "        raise ValueError(\"Optimization failed: {}\".format(result.message))\n",
        "\n",
        "    return result.x"
      ],
      "metadata": {
        "id": "sE_PFlg61jvi"
      },
      "execution_count": null,
      "outputs": []
    },
    {
      "cell_type": "code",
      "source": [
        "# Get optimal portfolio weights\n",
        "weights = optimize_portfolio(returns, cov_matrix)\n",
        "\n",
        "# Print portfolio allocation\n",
        "print(\"Portfolio allocation:\")\n",
        "for i, weight in enumerate(weights):\n",
        "    print(\"Asset {}: {:.2f}%\".format(i+1, weight*100))"
      ],
      "metadata": {
        "colab": {
          "base_uri": "https://localhost:8080/"
        },
        "id": "fP5Cxdi71la9",
        "outputId": "d40cdeb4-d7cd-4f54-d389-ac6081d54c27"
      },
      "execution_count": null,
      "outputs": [
        {
          "output_type": "stream",
          "name": "stdout",
          "text": [
            "Portfolio allocation:\n",
            "Asset 1: 3.86%\n",
            "Asset 2: 15.35%\n",
            "Asset 3: 28.52%\n",
            "Asset 4: 8.01%\n",
            "Asset 5: 12.72%\n",
            "Asset 6: 0.00%\n",
            "Asset 7: 0.41%\n",
            "Asset 8: 7.64%\n",
            "Asset 9: 21.21%\n",
            "Asset 10: 2.28%\n"
          ]
        }
      ]
    },
    {
      "cell_type": "markdown",
      "source": [
        "## Minimum Variance Optimization\n",
        "This implementation solves the quadratic optimization problem. The objective is to minimize the portfolio risk, subject to the constraint that the weights sum to one and are non-negative.\n",
        "\n",
        "The resulting weights represent the minimum variance portfolio allocation, which should have the lowest possible portfolio volatility or risk, subject to the constraints."
      ],
      "metadata": {
        "id": "s9ZjUhqf3xR4"
      }
    },
    {
      "cell_type": "code",
      "source": [
        "# Calculate expected returns and covariance matrix\n",
        "returns = data.pct_change().mean()\n",
        "cov_matrix = data.pct_change().cov()\n",
        "\n",
        "# Define optimization problem\n",
        "n_assets = len(returns)\n",
        "weights = cp.Variable(n_assets)\n",
        "risk = cp.quad_form(weights, cov_matrix)\n",
        "constraints = [cp.sum(weights) == 1, weights >= 0]\n",
        "objective = cp.Minimize(risk)\n",
        "problem = cp.Problem(objective, constraints)\n",
        "\n",
        "# Solve optimization problem\n",
        "problem.solve()\n",
        "\n",
        "# Print results\n",
        "print(\"Minimum variance portfolio allocation:\")\n",
        "for i, weight in enumerate(weights.value):\n",
        "    print(\"Asset {}: {:.2f}%\".format(i+1, weight*100))"
      ],
      "metadata": {
        "colab": {
          "base_uri": "https://localhost:8080/"
        },
        "id": "FdOXbRYG1nkK",
        "outputId": "006125e1-037f-4bca-f3b6-4cf8d7c4cf8a"
      },
      "execution_count": null,
      "outputs": [
        {
          "output_type": "stream",
          "name": "stdout",
          "text": [
            "Minimum variance portfolio allocation:\n",
            "Asset 1: 3.49%\n",
            "Asset 2: 15.29%\n",
            "Asset 3: 28.46%\n",
            "Asset 4: 8.68%\n",
            "Asset 5: 12.49%\n",
            "Asset 6: 0.00%\n",
            "Asset 7: 0.04%\n",
            "Asset 8: 7.75%\n",
            "Asset 9: 21.41%\n",
            "Asset 10: 2.40%\n"
          ]
        }
      ]
    },
    {
      "cell_type": "markdown",
      "source": [
        "## Risk Parity Allocation\n",
        "In this implementation, we calculate the asset weights based on the inverse of the volatility of each asset, rather than their expected returns. The idea is to weight the assets in proportion to their contribution to the overall portfolio risk, rather than their expected returns.\n",
        "\n",
        "We then normalize the weights so that they sum to one, which ensures that the portfolio is fully invested.\n",
        "\n",
        "The resulting weights represent the risk parity portfolio allocation, which should have a more balanced risk profile and be less sensitive to any one asset class or market factor."
      ],
      "metadata": {
        "id": "CHXmLoIz4DsU"
      }
    },
    {
      "cell_type": "code",
      "source": [
        "# Calculate asset weights based on inverse volatility\n",
        "weights = 1 / np.sqrt(data.pct_change().var())\n",
        "\n",
        "# Normalize weights to sum to 1\n",
        "weights /= np.sum(weights)\n",
        "\n",
        "# Print results\n",
        "print(\"Risk parity portfolio allocation:\")\n",
        "for i, weight in enumerate(weights):\n",
        "    print(\"Asset {}: {:.2f}%\".format(i+1, weight*100))"
      ],
      "metadata": {
        "colab": {
          "base_uri": "https://localhost:8080/"
        },
        "id": "_7Avejg54GEo",
        "outputId": "273e2605-a5b4-4f87-c2a4-b3af4b29fd46"
      },
      "execution_count": null,
      "outputs": [
        {
          "output_type": "stream",
          "name": "stdout",
          "text": [
            "Risk parity portfolio allocation:\n",
            "Asset 1: 10.26%\n",
            "Asset 2: 13.03%\n",
            "Asset 3: 14.09%\n",
            "Asset 4: 9.66%\n",
            "Asset 5: 9.92%\n",
            "Asset 6: 6.97%\n",
            "Asset 7: 8.93%\n",
            "Asset 8: 6.24%\n",
            "Asset 9: 12.95%\n",
            "Asset 10: 7.95%\n"
          ]
        }
      ]
    },
    {
      "cell_type": "markdown",
      "source": [
        "## Tactical Asset Allocation\n",
        "We define the long and short moving averages and calculate them using the rolling() method of the DataFrame object.\n",
        "\n",
        "Next, we create signals based on the moving average crossover. We use a DataFrame object called signals to store the signals, where each cell can take one of three values: 1 (long signal), -1 (short signal), or 0 (no signal).\n",
        "\n",
        "We then use the signals to calculate the asset allocation weights. We shift the signals by one day so that we use yesterday's signals to make today's allocation. We start with zero weights on the first day, and normalize the weights so that they sum to 1 for each day.\n",
        "\n",
        "Finally, we calculate the portfolio returns by multiplying the asset returns by the weights and summing across assets. We calculate the cumulative returns by taking the cumulative product of the portfolio returns.\n",
        "\n",
        "This implementation uses Moving Average Crossover as an example strategy."
      ],
      "metadata": {
        "id": "pyjXkFX59LiS"
      }
    },
    {
      "cell_type": "code",
      "source": [
        "# Define the long and short moving averages\n",
        "long_ma = 200\n",
        "short_ma = 50\n",
        "\n",
        "# Calculate the moving averages\n",
        "ma_long = data.rolling(long_ma).mean()\n",
        "ma_short = data.rolling(short_ma).mean()\n",
        "\n",
        "# Create signals based on the moving average crossover\n",
        "signals = pd.DataFrame(0, index=data.index, columns=data.columns)\n",
        "signals[ma_short > ma_long] = 1\n",
        "signals[ma_short <= ma_long] = -1\n",
        "\n",
        "# Calculate the asset allocation weights\n",
        "weights = signals.shift(1)  # Use yesterday's signals to make today's allocation\n",
        "weights.iloc[0, :] = 0  # Start with zero weights\n",
        "weights = weights.div(np.abs(weights).sum(axis=1), axis=0)  # Normalize to sum to 1\n",
        "\n",
        "# Calculate the portfolio returns\n",
        "returns = data.pct_change()\n",
        "portfolio_returns = (weights * returns).sum(axis=1)\n",
        "\n",
        "# Calculate the cumulative returns\n",
        "cumulative_returns = (1 + portfolio_returns).cumprod()\n",
        "\n",
        "# Plot the results\n",
        "cumulative_returns.plot( title='Tactical Asset Allocation')\n",
        "sharpe_ratio = np.sqrt(252) * portfolio_returns.mean() / portfolio_returns.std()\n",
        "print(sharpe_ratio)"
      ],
      "metadata": {
        "colab": {
          "base_uri": "https://localhost:8080/",
          "height": 470
        },
        "id": "TnSLzuZE45jO",
        "outputId": "984b824b-4aa7-4a6f-c9ec-45396e07e8ed"
      },
      "execution_count": null,
      "outputs": [
        {
          "output_type": "stream",
          "name": "stdout",
          "text": [
            "0.41024372664996867\n"
          ]
        },
        {
          "output_type": "display_data",
          "data": {
            "text/plain": [
              "<Figure size 640x480 with 1 Axes>"
            ],
            "image/png": "[encoded data removed]"
          },
          "metadata": {}
        }
      ]
    },
    {
      "cell_type": "markdown",
      "source": [
        "## TAA using relative strength"
      ],
      "metadata": {
        "id": "HFtNMcFhDbDC"
      }
    },
    {
      "cell_type": "code",
      "source": [
        "# Define lookback periods\n",
        "lookback_short = 20\n",
        "lookback_long = 50\n",
        "\n",
        "# Initialize portfolio weights\n",
        "weights = pd.DataFrame(columns=assets.columns, index=assets.index)\n",
        "\n",
        "# Iterate over each day\n",
        "for i in range(lookback_long, len(assets)):\n",
        "\n",
        "    # Calculate returns over lookback periods\n",
        "    returns_short = assets.iloc[i-lookback_short:i].pct_change().dropna()\n",
        "    returns_long = assets.iloc[i-lookback_long:i].pct_change().dropna()\n",
        "\n",
        "    # Calculate relative strength\n",
        "    relative_strength = returns_short.mean() / returns_long.mean()\n",
        "\n",
        "    # Calculate weights based on relative strength\n",
        "    weights.iloc[i] = relative_strength / relative_strength.sum()\n",
        "\n",
        "# Add a small constant to avoid division by zero\n",
        "weights_sum = weights.sum(axis=1) + 1e-6\n",
        "\n",
        "# Normalize weights\n",
        "weights = weights.div(weights_sum, axis=0)\n",
        "\n",
        "# Calculate daily portfolio returns\n",
        "portfolio_returns = (weights.shift(1) * assets.pct_change()).sum(axis=1)\n",
        "plt.plot(portfolio_returns)\n",
        "\n",
        "# Calculate performance metrics\n",
        "sharpe_ratio = np.sqrt(252) * portfolio_returns.mean() / portfolio_returns.std()\n",
        "annual_return = (1 + portfolio_returns.mean())**252 - 1\n",
        "max_drawdown = (portfolio_returns / (1 + portfolio_returns)).cumprod().cummax() - 1\n",
        "\n",
        "print(f'Sharpe ratio: {sharpe_ratio:.2f}')\n",
        "print(f'Annual return: {annual_return:.2f}')\n",
        "print(f'Max drawdown: {max_drawdown.min():.2f}')\n"
      ],
      "metadata": {
        "colab": {
          "base_uri": "https://localhost:8080/",
          "height": 485
        },
        "id": "EvG_pOE4-xCK",
        "outputId": "bb2077f0-a343-4361-e222-9ebac1266908"
      },
      "execution_count": null,
      "outputs": [
        {
          "output_type": "stream",
          "name": "stdout",
          "text": [
            "Sharpe ratio: 0.39\n",
            "Annual return: 146.61\n",
            "Max drawdown: -1.00\n"
          ]
        },
        {
          "output_type": "display_data",
          "data": {
            "text/plain": [
              "<Figure size 640x480 with 1 Axes>"
            ],
            "image/png": "[encoded data removed]"
          },
          "metadata": {}
        }
      ]
    },
    {
      "cell_type": "markdown",
      "source": [
        "## Momentum-based TAA Strategy"
      ],
      "metadata": {
        "id": "Qz8WAJrhDCRv"
      }
    },
    {
      "cell_type": "code",
      "source": [
        "# Define lookback periods\n",
        "lookback_short = 20\n",
        "lookback_long = 50\n",
        "\n",
        "# Initialize portfolio weights\n",
        "weights = pd.DataFrame(columns=assets.columns, index=assets.index)\n",
        "\n",
        "# Iterate over each day\n",
        "for i in range(lookback_long, len(assets)):\n",
        "\n",
        "    # Calculate returns over lookback periods\n",
        "    returns_short = assets.iloc[i-lookback_short:i].pct_change().dropna()\n",
        "    returns_long = assets.iloc[i-lookback_long:i].pct_change().dropna()\n",
        "\n",
        "    # Calculate momentum\n",
        "    momentum = returns_short.sum() / abs(returns_short).sum() - returns_long.sum() / abs(returns_long).sum()\n",
        "\n",
        "    # Calculate weights based on momentum\n",
        "    weights.iloc[i] = momentum / momentum.sum()\n",
        "\n",
        "# Add a small constant to avoid division by zero\n",
        "weights_sum = weights.sum(axis=1) + 1e-6\n",
        "\n",
        "# Normalize weights\n",
        "weights = weights.div(weights_sum, axis=0)\n",
        "\n",
        "# Calculate daily portfolio returns\n",
        "portfolio_returns = (weights.shift(1) * assets.pct_change()).sum(axis=1)\n",
        "plt.plot(portfolio_returns)\n",
        "\n",
        "# Calculate performance metrics\n",
        "sharpe_ratio = np.sqrt(252) * portfolio_returns.mean() / portfolio_returns.std()\n",
        "annual_return = (1 + portfolio_returns.mean())**252 - 1\n",
        "max_drawdown = (portfolio_returns / (1 + portfolio_returns)).cumprod().cummax() - 1\n",
        "\n",
        "print(f'Sharpe ratio: {sharpe_ratio:.2f}')\n",
        "print(f'Annual return: {annual_return:.2f}')\n",
        "print(f'Max drawdown: {max_drawdown.min():.2f}')"
      ],
      "metadata": {
        "colab": {
          "base_uri": "https://localhost:8080/",
          "height": 485
        },
        "id": "IcXT4Q9t-8Qu",
        "outputId": "783d650a-849c-4427-f3a9-dc12b95cb0fe"
      },
      "execution_count": null,
      "outputs": [
        {
          "output_type": "stream",
          "name": "stdout",
          "text": [
            "Sharpe ratio: 0.19\n",
            "Annual return: 31.88\n",
            "Max drawdown: -1.00\n"
          ]
        },
        {
          "output_type": "display_data",
          "data": {
            "text/plain": [
              "<Figure size 640x480 with 1 Axes>"
            ],
            "image/png": "[encoded data removed]"
          },
          "metadata": {}
        }
      ]
    },
    {
      "cell_type": "markdown",
      "source": [
        "## Using PyPortfolio"
      ],
      "metadata": {
        "id": "DnKfoCv6GApO"
      }
    },
    {
      "cell_type": "code",
      "source": [
        "from pypfopt.expected_returns import mean_historical_return\n",
        "from pypfopt import HRPOpt\n",
        "from pypfopt.risk_models import CovarianceShrinkage\n",
        "from pypfopt.efficient_frontier import EfficientFrontier\n",
        "from pypfopt.efficient_frontier import EfficientCVaR\n",
        "from pypfopt.discrete_allocation import DiscreteAllocation, get_latest_prices"
      ],
      "metadata": {
        "id": "HJ9Uc6iCJrgz"
      },
      "execution_count": null,
      "outputs": []
    },
    {
      "cell_type": "markdown",
      "source": [
        "### Mean Variance Optimization"
      ],
      "metadata": {
        "id": "hw-YyoA5ImU8"
      }
    },
    {
      "cell_type": "code",
      "source": [
        "portfolio = assets\n",
        "\n",
        "mu = mean_historical_return(portfolio)\n",
        "S = CovarianceShrinkage(portfolio).ledoit_wolf()\n",
        "ef = EfficientFrontier(mu, S)\n",
        "weights = ef.max_sharpe()\n",
        "\n",
        "cleaned_weights = ef.clean_weights()\n",
        "print(dict(cleaned_weights))\n",
        "ef.portfolio_performance(verbose=True)"
      ],
      "metadata": {
        "id": "zSJKY-C2k4fP",
        "colab": {
          "base_uri": "https://localhost:8080/"
        },
        "outputId": "5d16f8ad-520c-4fda-f6c3-8eca46c47dfa"
      },
      "execution_count": null,
      "outputs": [
        {
          "output_type": "stream",
          "name": "stdout",
          "text": [
            "{'A': 0.0, 'B': 0.28356, 'C': 0.19795, 'D': 0.23091, 'E': 0.0, 'F': 0.0, 'G': 0.0, 'H': 0.12525, 'I': 0.16233, 'J': 0.0}\n",
            "Expected annual return: 19.2%\n",
            "Annual volatility: 14.9%\n",
            "Sharpe Ratio: 1.16\n"
          ]
        },
        {
          "output_type": "execute_result",
          "data": {
            "text/plain": [
              "(0.19247329532050853, 0.14855452154335694, 1.1610100690888139)"
            ]
          },
          "metadata": {},
          "execution_count": 64
        }
      ]
    },
    {
      "cell_type": "code",
      "source": [
        "latest_prices = get_latest_prices(portfolio)\n",
        "da = DiscreteAllocation(weights, latest_prices, total_portfolio_value=100000)\n",
        "allocation, leftover = da.greedy_portfolio()\n",
        "print(\"Discrete allocation:\", allocation)\n",
        "print(\"Funds remaining: ${:.2f}\".format(leftover))"
      ],
      "metadata": {
        "colab": {
          "base_uri": "https://localhost:8080/"
        },
        "id": "qJpFSqUOIBRG",
        "outputId": "6b348937-c0b6-4490-940f-816f7c0f7ce2"
      },
      "execution_count": null,
      "outputs": [
        {
          "output_type": "stream",
          "name": "stdout",
          "text": [
            "Discrete allocation: {'B': 22, 'D': 79, 'C': 96, 'I': 177, 'H': 35}\n",
            "Funds remaining: $13.64\n"
          ]
        }
      ]
    },
    {
      "cell_type": "markdown",
      "source": [
        "### Hierarchical Risk Parity"
      ],
      "metadata": {
        "id": "44GD1CXrMjbQ"
      }
    },
    {
      "cell_type": "code",
      "source": [
        "returns = assets.pct_change().dropna()\n",
        "hrp = HRPOpt(returns)\n",
        "hrp_weights = hrp.optimize()\n",
        "hrp.portfolio_performance(verbose=True)\n",
        "print(dict(hrp_weights))"
      ],
      "metadata": {
        "colab": {
          "base_uri": "https://localhost:8080/"
        },
        "id": "EYvyrBaCMl8X",
        "outputId": "33a7c5c8-69bd-4a24-e7bc-1da56c284a7f"
      },
      "execution_count": null,
      "outputs": [
        {
          "output_type": "stream",
          "name": "stdout",
          "text": [
            "Expected annual return: 15.7%\n",
            "Annual volatility: 13.3%\n",
            "Sharpe Ratio: 1.02\n",
            "{'A': 0.0974994951696124, 'B': 0.20896075493887906, 'C': 0.2492757172446337, 'D': 0.04493725729425165, 'E': 0.07490832643678304, 'F': 0.012759826439506945, 'G': 0.020917178005535587, 'H': 0.03611868304361324, 'I': 0.20650832018478316, 'J': 0.04811444124240119}\n"
          ]
        }
      ]
    },
    {
      "cell_type": "code",
      "source": [
        "da_hrp = DiscreteAllocation(hrp_weights, latest_prices, total_portfolio_value=100000)\n",
        "\n",
        "allocation, leftover = da_hrp.greedy_portfolio()\n",
        "print(\"Discrete allocation (HRP):\", allocation)\n",
        "print(\"Funds remaining (HRP): ${:.2f}\".format(leftover))"
      ],
      "metadata": {
        "colab": {
          "base_uri": "https://localhost:8080/"
        },
        "id": "cpVL8G6SMwmW",
        "outputId": "6eb164cf-0c2f-491f-f0ae-ccc0e865d856"
      },
      "execution_count": null,
      "outputs": [
        {
          "output_type": "stream",
          "name": "stdout",
          "text": [
            "Discrete allocation (HRP): {'C': 121, 'B': 16, 'I': 224, 'A': 31, 'E': 141, 'J': 140, 'D': 16, 'H': 10, 'G': 14, 'F': 13}\n",
            "Funds remaining (HRP): $2.51\n"
          ]
        }
      ]
    },
    {
      "cell_type": "markdown",
      "source": [
        "### Mean Conditional Value at Risk\n",
        "As we can see, this is quite bad so we shouldn't do it."
      ],
      "metadata": {
        "id": "w02Tiz8cM3YA"
      }
    },
    {
      "cell_type": "code",
      "source": [
        "S = assets.cov()\n",
        "ef_cvar = EfficientCVaR(mu, S)\n",
        "cvar_weights = ef_cvar.min_cvar()\n",
        "\n",
        "cleaned_weights = ef_cvar.clean_weights()\n",
        "ef_cvar.portfolio_performance(verbose=True)\n",
        "print(dict(cleaned_weights))"
      ],
      "metadata": {
        "colab": {
          "base_uri": "https://localhost:8080/"
        },
        "id": "yr77BchSMzn3",
        "outputId": "36507365-33d0-4125-cd5f-b4feaef39106"
      },
      "execution_count": null,
      "outputs": [
        {
          "output_type": "stream",
          "name": "stdout",
          "text": [
            "Expected annual return: -7.7%\n",
            "Conditional Value at Risk: -9120.11%\n",
            "{'A': 0.0, 'B': 0.07455, 'C': 0.0, 'D': 0.0, 'E': 0.0, 'F': 0.0, 'G': 0.0, 'H': 0.03301, 'I': 0.0, 'J': 0.89244}\n"
          ]
        }
      ]
    },
    {
      "cell_type": "code",
      "source": [
        "da_cvar = DiscreteAllocation(cvar_weights, latest_prices, total_portfolio_value=100000)\n",
        "\n",
        "allocation, leftover = da_cvar.greedy_portfolio()\n",
        "print(\"Discrete allocation (CVAR):\", allocation)\n",
        "print(\"Funds remaining (CVAR): ${:.2f}\".format(leftover))"
      ],
      "metadata": {
        "colab": {
          "base_uri": "https://localhost:8080/"
        },
        "id": "Fi4-1-2kM_qg",
        "outputId": "ec23a198-252c-4834-dacf-d43fac383054"
      },
      "execution_count": null,
      "outputs": [
        {
          "output_type": "stream",
          "name": "stdout",
          "text": [
            "Discrete allocation (CVAR): {'J': 2580, 'B': 5, 'H': 10, 'A': 1, 'D': 1, 'E': 1}\n",
            "Funds remaining (CVAR): $8.00\n"
          ]
        }
      ]
    },
    {
      "cell_type": "code",
      "source": [
        "import numpy as np\n",
        "import pandas as pd\n",
        "from scipy.optimize import minimize\n",
        "\n",
        "class NeuralNetwork:\n",
        "    def __init__(self, inputs, hidden_layers, outputs):\n",
        "        self.inputs = inputs\n",
        "        self.hidden_layers = hidden_layers\n",
        "        self.outputs = outputs\n",
        "\n",
        "        self.weights = []\n",
        "        self.biases = []\n",
        "        \n",
        "        # Initialize weights and biases\n",
        "        sizes = [inputs] + hidden_layers + [outputs]\n",
        "        for i in range(len(sizes) - 1):\n",
        "            self.weights.append(np.random.randn(sizes[i], sizes[i+1]))\n",
        "            self.biases.append(np.random.randn(sizes[i+1]))\n",
        "\n",
        "    def forward(self, X):\n",
        "        A = X\n",
        "        for i in range(len(self.weights)):\n",
        "            Z = np.dot(A, self.weights[i]) + self.biases[i]\n",
        "            A = self.sigmoid(Z)\n",
        "        return A\n",
        "\n",
        "    def sigmoid(self, Z):\n",
        "        return 1 / (1 + np.exp(-Z))\n",
        "\n",
        "    def fit(self, X_train, y_train):\n",
        "        # Define loss function and optimization algorithm\n",
        "        def loss(params, X, y):\n",
        "            # Reshape weights and biases\n",
        "            weights = []\n",
        "            biases = []\n",
        "            start = 0\n",
        "            for i in range(len(self.weights)):\n",
        "                end = start + self.weights[i].size\n",
        "                weights.append(params[start:end].reshape(self.weights[i].shape))\n",
        "                start = end\n",
        "                \n",
        "                end = start + self.biases[i].size\n",
        "                biases.append(params[start:end])\n",
        "                start = end\n",
        "                \n",
        "            # Forward propagation\n",
        "            A = X\n",
        "            for i in range(len(weights)):\n",
        "                Z = np.dot(A, weights[i]) + biases[i]\n",
        "                A = self.sigmoid(Z)\n",
        "                \n",
        "            # Compute loss\n",
        "            mse = np.mean((y - A)**2)\n",
        "            \n",
        "            # Regularization\n",
        "            l2_reg = 0\n",
        "            for w in weights:\n",
        "                l2_reg += np.sum(w**2)\n",
        "            l2_reg *= 0.01\n",
        "            \n",
        "            return mse + l2_reg\n",
        "        \n",
        "        params = np.concatenate([w.ravel() for w in self.weights] + self.biases)\n",
        "        result = minimize(loss, params, args=(X_train, y_train), method='BFGS', options={'maxiter': 200})\n",
        "        \n",
        "        # Reshape weights and biases\n",
        "        start = 0\n",
        "        for i in range(len(self.weights)):\n",
        "            end = start + self.weights[i].size\n",
        "            self.weights[i] = result.x[start:end].reshape(self.weights[i].shape)\n",
        "            start = end\n",
        "            \n",
        "            end = start + self.biases[i].size\n",
        "            self.biases[i] = result.x[start:end]\n",
        "            start = end\n",
        "\n",
        "    def predict(self, X):\n",
        "        return self.forward(X)\n"
      ],
      "metadata": {
        "id": "wL74NlMJRvUy"
      },
      "execution_count": null,
      "outputs": []
    },
    {
      "cell_type": "code",
      "source": [
        "import numpy as np\n",
        "import pandas as pd\n",
        "from scipy.optimize import minimize\n",
        "\n",
        "# input data\n",
        "df = assets\n",
        "\n",
        "# define Black-Litterman model parameters\n",
        "rf = 0.02   # risk-free rate\n",
        "tau = 0.05  # scaling factor for the covariance matrix\n",
        "delta = 2.5  # degree of investor risk aversion\n",
        "\n",
        "# calculate the market capitalization weights\n",
        "mkt_caps = df.iloc[-1]\n",
        "mkt_wts = mkt_caps / mkt_caps.sum()\n",
        "\n",
        "# calculate the expected returns based on the market capitalization weights\n",
        "exp_returns = np.log(df / df.shift(1)).mean() * 252\n",
        "\n",
        "# calculate the covariance matrix of the returns\n",
        "cov_returns = np.log(df / df.shift(1)).cov() * 252\n",
        "\n",
        "# calculate the equilibrium portfolio weights\n",
        "inv_cov = np.linalg.inv(cov_returns)\n",
        "equil_wts = delta * np.dot(inv_cov, exp_returns - rf) / np.sum(np.dot(inv_cov, exp_returns - rf))\n",
        "\n",
        "# calculate the implied returns based on the equilibrium portfolio weights\n",
        "implied_returns = rf + np.dot(cov_returns, equil_wts)\n",
        "\n",
        "# adjust the implied returns based on the investor views\n",
        "P = np.array([[1, 0], [0, 1]])  # example pick matrix\n",
        "Q = np.array([0.05, -0.02])  # example view vector\n",
        "omega = np.diag(np.diag(tau * np.dot(np.dot(P, cov_returns), P.T)))  # example view uncertainty matrix\n",
        "inv_adjusted_cov = np.linalg.inv(tau * cov_returns)\n",
        "pi_adjusted = np.dot(inv_adjusted_cov, implied_returns)\n",
        "pi_adjusted = pi_adjusted + np.dot(np.dot(np.dot(inv_adjusted_cov, P.T), np.linalg.inv(omega)), (Q - np.dot(P, pi_adjusted)))\n",
        "adjusted_cov_returns = cov_returns + np.dot(np.dot(np.dot(inv_adjusted_cov, P.T), np.linalg.inv(omega)), P.dot(cov_returns))\n",
        "\n",
        "# calculate the optimal portfolio weights\n",
        "inv_adjusted_cov = np.linalg.inv(adjusted_cov_returns)\n",
        "optimal_wts = delta * np.dot(inv_adjusted_cov, pi_adjusted - rf) / np.sum(np.dot(inv_adjusted_cov, pi_adjusted - rf))\n",
        "\n",
        "# calculate the Sharpe ratio of the optimal portfolio\n",
        "portfolio_return = np.dot(df.pct_change().mean(), optimal_wts) * 252\n",
        "portfolio_std_dev = np.sqrt(np.dot(optimal_wts.T, np.dot(adjusted_cov_returns, optimal_wts))) * np.sqrt(252)\n",
        "sharpe_ratio = (portfolio_return - rf) / portfolio_std_dev\n",
        "\n",
        "# print the optimal portfolio weights and Sharpe ratio\n",
        "print(\"Optimal portfolio weights:\\n\", optimal_wts)\n",
        "print(\"Sharpe ratio:\", sharpe_ratio)"
      ],
      "metadata": {
        "colab": {
          "base_uri": "https://localhost:8080/",
          "height": 283
        },
        "id": "OEFj_uPRRv_x",
        "outputId": "d71e64fc-0928-4812-d16c-f8df83c02fb9"
      },
      "execution_count": null,
      "outputs": [
        {
          "output_type": "error",
          "ename": "ValueError",
          "evalue": "ignored",
          "traceback": [
            "\u001b[0;31m---------------------------------------------------------------------------\u001b[0m",
            "\u001b[0;31mValueError\u001b[0m                                Traceback (most recent call last)",
            "\u001b[0;32m<ipython-input-83-7553357830a5>\u001b[0m in \u001b[0;36m<cell line: 33>\u001b[0;34m()\u001b[0m\n\u001b[1;32m     31\u001b[0m \u001b[0mP\u001b[0m \u001b[0;34m=\u001b[0m \u001b[0mnp\u001b[0m\u001b[0;34m.\u001b[0m\u001b[0marray\u001b[0m\u001b[0;34m(\u001b[0m\u001b[0;34m[\u001b[0m\u001b[0;34m[\u001b[0m\u001b[0;36m1\u001b[0m\u001b[0;34m,\u001b[0m \u001b[0;36m0\u001b[0m\u001b[0;34m]\u001b[0m\u001b[0;34m,\u001b[0m \u001b[0;34m[\u001b[0m\u001b[0;36m0\u001b[0m\u001b[0;34m,\u001b[0m \u001b[0;36m1\u001b[0m\u001b[0;34m]\u001b[0m\u001b[0;34m]\u001b[0m\u001b[0;34m)\u001b[0m  \u001b[0;31m# example pick matrix\u001b[0m\u001b[0;34m\u001b[0m\u001b[0;34m\u001b[0m\u001b[0m\n\u001b[1;32m     32\u001b[0m \u001b[0mQ\u001b[0m \u001b[0;34m=\u001b[0m \u001b[0mnp\u001b[0m\u001b[0;34m.\u001b[0m\u001b[0marray\u001b[0m\u001b[0;34m(\u001b[0m\u001b[0;34m[\u001b[0m\u001b[0;36m0.05\u001b[0m\u001b[0;34m,\u001b[0m \u001b[0;34m-\u001b[0m\u001b[0;36m0.02\u001b[0m\u001b[0;34m]\u001b[0m\u001b[0;34m)\u001b[0m  \u001b[0;31m# example view vector\u001b[0m\u001b[0;34m\u001b[0m\u001b[0;34m\u001b[0m\u001b[0m\n\u001b[0;32m---> 33\u001b[0;31m \u001b[0momega\u001b[0m \u001b[0;34m=\u001b[0m \u001b[0mnp\u001b[0m\u001b[0;34m.\u001b[0m\u001b[0mdiag\u001b[0m\u001b[0;34m(\u001b[0m\u001b[0mnp\u001b[0m\u001b[0;34m.\u001b[0m\u001b[0mdiag\u001b[0m\u001b[0;34m(\u001b[0m\u001b[0mtau\u001b[0m \u001b[0;34m*\u001b[0m \u001b[0mnp\u001b[0m\u001b[0;34m.\u001b[0m\u001b[0mdot\u001b[0m\u001b[0;34m(\u001b[0m\u001b[0mnp\u001b[0m\u001b[0;34m.\u001b[0m\u001b[0mdot\u001b[0m\u001b[0;34m(\u001b[0m\u001b[0mP\u001b[0m\u001b[0;34m,\u001b[0m \u001b[0mcov_returns\u001b[0m\u001b[0;34m)\u001b[0m\u001b[0;34m,\u001b[0m \u001b[0mP\u001b[0m\u001b[0;34m.\u001b[0m\u001b[0mT\u001b[0m\u001b[0;34m)\u001b[0m\u001b[0;34m)\u001b[0m\u001b[0;34m)\u001b[0m  \u001b[0;31m# example view uncertainty matrix\u001b[0m\u001b[0;34m\u001b[0m\u001b[0;34m\u001b[0m\u001b[0m\n\u001b[0m\u001b[1;32m     34\u001b[0m \u001b[0minv_adjusted_cov\u001b[0m \u001b[0;34m=\u001b[0m \u001b[0mnp\u001b[0m\u001b[0;34m.\u001b[0m\u001b[0mlinalg\u001b[0m\u001b[0;34m.\u001b[0m\u001b[0minv\u001b[0m\u001b[0;34m(\u001b[0m\u001b[0mtau\u001b[0m \u001b[0;34m*\u001b[0m \u001b[0mcov_returns\u001b[0m\u001b[0;34m)\u001b[0m\u001b[0;34m\u001b[0m\u001b[0;34m\u001b[0m\u001b[0m\n\u001b[1;32m     35\u001b[0m \u001b[0mpi_adjusted\u001b[0m \u001b[0;34m=\u001b[0m \u001b[0mnp\u001b[0m\u001b[0;34m.\u001b[0m\u001b[0mdot\u001b[0m\u001b[0;34m(\u001b[0m\u001b[0minv_adjusted_cov\u001b[0m\u001b[0;34m,\u001b[0m \u001b[0mimplied_returns\u001b[0m\u001b[0;34m)\u001b[0m\u001b[0;34m\u001b[0m\u001b[0;34m\u001b[0m\u001b[0m\n",
            "\u001b[0;32m/usr/local/lib/python3.9/dist-packages/numpy/core/overrides.py\u001b[0m in \u001b[0;36mdot\u001b[0;34m(*args, **kwargs)\u001b[0m\n",
            "\u001b[0;31mValueError\u001b[0m: shapes (2,2) and (10,10) not aligned: 2 (dim 1) != 10 (dim 0)"
          ]
        }
      ]
    },
    {
      "cell_type": "code",
      "source": [],
      "metadata": {
        "id": "73DMoFXTSCx-"
      },
      "execution_count": null,
      "outputs": []
    }
  ]
}